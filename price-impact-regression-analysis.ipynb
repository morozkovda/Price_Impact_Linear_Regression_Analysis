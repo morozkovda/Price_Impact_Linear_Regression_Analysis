{
 "metadata": {
  "kernelspec": {
   "language": "python",
   "display_name": "Python 3",
   "name": "python3"
  },
  "language_info": {
   "name": "python",
   "version": "3.10.12",
   "mimetype": "text/x-python",
   "codemirror_mode": {
    "name": "ipython",
    "version": 3
   },
   "pygments_lexer": "ipython3",
   "nbconvert_exporter": "python",
   "file_extension": ".py"
  }
 },
 "nbformat_minor": 4,
 "nbformat": 4,
 "cells": [
  {
   "cell_type": "code",
   "execution_count": null,
   "outputs": [],
   "source": [
    "# import libs\n",
    "import numpy as np \n",
    "import pandas as pd\n",
    "import os\n",
    "for dirname, _, filenames in os.walk('/kaggle/input'):\n",
    "    for filename in filenames:\n",
    "        print(os.path.join(dirname, filename))\n",
    "import matplotlib.pyplot as plt\n",
    "import seaborn as sns\n",
    "import time\n",
    "import plotly.graph_objs as go\n",
    "import plotly.express as px\n",
    "import statsmodels.api as sm\n",
    "from sklearn.metrics import mean_squared_error, mean_absolute_error\n",
    "from datetime import datetime, timedelta"
   ],
   "metadata": {
    "collapsed": false
   }
  },
  {
   "cell_type": "code",
   "source": [
    "df_PI = pd.read_csv(r'/kaggle/input/wbtc-usdc-pi-new/wbtc_usdc_PI new.csv')\n",
    "df_PI"
   ],
   "metadata": {
    "execution": {
     "iopub.status.busy": "2023-07-25T07:26:03.892519Z",
     "iopub.execute_input": "2023-07-25T07:26:03.893270Z",
     "iopub.status.idle": "2023-07-25T07:26:03.917343Z",
     "shell.execute_reply.started": "2023-07-25T07:26:03.893215Z",
     "shell.execute_reply": "2023-07-25T07:26:03.916341Z"
    },
    "trusted": true
   },
   "execution_count": 20,
   "outputs": [
    {
     "execution_count": 20,
     "output_type": "execute_result",
     "data": {
      "text/plain": "     ['N'         'date'       'time'           'timestamp'    '1000'  \\\n0      [0   '2023-07-19'   '17:47:15'   '1689788835.807359'  0.000033   \n1      [1   '2023-07-19'   '18:24:39'   '1689791079.323281'  0.000033   \n2      [2   '2023-07-19'   '18:50:06'   '1689792606.527365'  0.000033   \n3      [3   '2023-07-19'   '19:27:20'   '1689794840.923276'  0.000033   \n4      [4   '2023-07-19'   '19:53:04'   '1689796384.776746'  0.000033   \n..    ...            ...          ...                   ...       ...   \n157  [157   '2023-07-24'   '10:08:47'   '1690193327.223297'  0.000034   \n158  [158   '2023-07-24'   '10:27:05'   '1690194425.183332'  0.000034   \n159  [159   '2023-07-24'   '11:11:20'   '1690197080.095331'  0.000034   \n160  [160   '2023-07-24'   '11:30:19'   '1690198219.536592'  0.000034   \n161  [161   '2023-07-24'   '12:14:00'   '1690200840.628046'  0.000034   \n\n      '50 000'   '200 000'   '300 000'   '400 000'            '500 000']  \n0     0.221139    0.512955    0.643099    0.586246   0.9116512330731013]  \n1     0.160544    0.281088    0.439772    0.439134    0.741995865711786]  \n2     0.022244    0.424229    0.582685    0.582049   0.8844755854083246]  \n3     0.118858    0.422314    0.546118    0.669519   0.8036944345415407]  \n4     0.203635    0.361283    0.485164    0.608640    0.742897658786049]  \n..         ...         ...         ...         ...                   ...  \n157   0.489081   -1.167546    0.622088   -1.016159   -0.871491372275699]  \n158   0.069222    0.396906    0.596356    0.668999   0.8493153182071893]  \n159   0.162747    0.490124    0.565960    0.761962   0.9421101112258583]  \n160   0.282600    0.449335    0.505105    0.682820   0.8131594553631771]  \n161  -0.077765    0.089573    0.364335    0.323902   0.4547118573062079]  \n\n[162 rows x 10 columns]",
      "text/html": "<div>\n<style scoped>\n    .dataframe tbody tr th:only-of-type {\n        vertical-align: middle;\n    }\n\n    .dataframe tbody tr th {\n        vertical-align: top;\n    }\n\n    .dataframe thead th {\n        text-align: right;\n    }\n</style>\n<table border=\"1\" class=\"dataframe\">\n  <thead>\n    <tr style=\"text-align: right;\">\n      <th></th>\n      <th>['N'</th>\n      <th>'date'</th>\n      <th>'time'</th>\n      <th>'timestamp'</th>\n      <th>'1000'</th>\n      <th>'50 000'</th>\n      <th>'200 000'</th>\n      <th>'300 000'</th>\n      <th>'400 000'</th>\n      <th>'500 000']</th>\n    </tr>\n  </thead>\n  <tbody>\n    <tr>\n      <th>0</th>\n      <td>[0</td>\n      <td>'2023-07-19'</td>\n      <td>'17:47:15'</td>\n      <td>'1689788835.807359'</td>\n      <td>0.000033</td>\n      <td>0.221139</td>\n      <td>0.512955</td>\n      <td>0.643099</td>\n      <td>0.586246</td>\n      <td>0.9116512330731013]</td>\n    </tr>\n    <tr>\n      <th>1</th>\n      <td>[1</td>\n      <td>'2023-07-19'</td>\n      <td>'18:24:39'</td>\n      <td>'1689791079.323281'</td>\n      <td>0.000033</td>\n      <td>0.160544</td>\n      <td>0.281088</td>\n      <td>0.439772</td>\n      <td>0.439134</td>\n      <td>0.741995865711786]</td>\n    </tr>\n    <tr>\n      <th>2</th>\n      <td>[2</td>\n      <td>'2023-07-19'</td>\n      <td>'18:50:06'</td>\n      <td>'1689792606.527365'</td>\n      <td>0.000033</td>\n      <td>0.022244</td>\n      <td>0.424229</td>\n      <td>0.582685</td>\n      <td>0.582049</td>\n      <td>0.8844755854083246]</td>\n    </tr>\n    <tr>\n      <th>3</th>\n      <td>[3</td>\n      <td>'2023-07-19'</td>\n      <td>'19:27:20'</td>\n      <td>'1689794840.923276'</td>\n      <td>0.000033</td>\n      <td>0.118858</td>\n      <td>0.422314</td>\n      <td>0.546118</td>\n      <td>0.669519</td>\n      <td>0.8036944345415407]</td>\n    </tr>\n    <tr>\n      <th>4</th>\n      <td>[4</td>\n      <td>'2023-07-19'</td>\n      <td>'19:53:04'</td>\n      <td>'1689796384.776746'</td>\n      <td>0.000033</td>\n      <td>0.203635</td>\n      <td>0.361283</td>\n      <td>0.485164</td>\n      <td>0.608640</td>\n      <td>0.742897658786049]</td>\n    </tr>\n    <tr>\n      <th>...</th>\n      <td>...</td>\n      <td>...</td>\n      <td>...</td>\n      <td>...</td>\n      <td>...</td>\n      <td>...</td>\n      <td>...</td>\n      <td>...</td>\n      <td>...</td>\n      <td>...</td>\n    </tr>\n    <tr>\n      <th>157</th>\n      <td>[157</td>\n      <td>'2023-07-24'</td>\n      <td>'10:08:47'</td>\n      <td>'1690193327.223297'</td>\n      <td>0.000034</td>\n      <td>0.489081</td>\n      <td>-1.167546</td>\n      <td>0.622088</td>\n      <td>-1.016159</td>\n      <td>-0.871491372275699]</td>\n    </tr>\n    <tr>\n      <th>158</th>\n      <td>[158</td>\n      <td>'2023-07-24'</td>\n      <td>'10:27:05'</td>\n      <td>'1690194425.183332'</td>\n      <td>0.000034</td>\n      <td>0.069222</td>\n      <td>0.396906</td>\n      <td>0.596356</td>\n      <td>0.668999</td>\n      <td>0.8493153182071893]</td>\n    </tr>\n    <tr>\n      <th>159</th>\n      <td>[159</td>\n      <td>'2023-07-24'</td>\n      <td>'11:11:20'</td>\n      <td>'1690197080.095331'</td>\n      <td>0.000034</td>\n      <td>0.162747</td>\n      <td>0.490124</td>\n      <td>0.565960</td>\n      <td>0.761962</td>\n      <td>0.9421101112258583]</td>\n    </tr>\n    <tr>\n      <th>160</th>\n      <td>[160</td>\n      <td>'2023-07-24'</td>\n      <td>'11:30:19'</td>\n      <td>'1690198219.536592'</td>\n      <td>0.000034</td>\n      <td>0.282600</td>\n      <td>0.449335</td>\n      <td>0.505105</td>\n      <td>0.682820</td>\n      <td>0.8131594553631771]</td>\n    </tr>\n    <tr>\n      <th>161</th>\n      <td>[161</td>\n      <td>'2023-07-24'</td>\n      <td>'12:14:00'</td>\n      <td>'1690200840.628046'</td>\n      <td>0.000034</td>\n      <td>-0.077765</td>\n      <td>0.089573</td>\n      <td>0.364335</td>\n      <td>0.323902</td>\n      <td>0.4547118573062079]</td>\n    </tr>\n  </tbody>\n</table>\n<p>162 rows × 10 columns</p>\n</div>"
     },
     "metadata": {}
    }
   ]
  },
  {
   "cell_type": "code",
   "source": [
    "df_PI = df_PI.drop(df_PI.columns[0], axis=1)\n",
    "df_PI"
   ],
   "metadata": {
    "execution": {
     "iopub.status.busy": "2023-07-25T07:26:03.929167Z",
     "iopub.execute_input": "2023-07-25T07:26:03.929461Z",
     "iopub.status.idle": "2023-07-25T07:26:03.948231Z",
     "shell.execute_reply.started": "2023-07-25T07:26:03.929436Z",
     "shell.execute_reply": "2023-07-25T07:26:03.947156Z"
    },
    "trusted": true
   },
   "execution_count": 21,
   "outputs": [
    {
     "execution_count": 21,
     "output_type": "execute_result",
     "data": {
      "text/plain": "            'date'       'time'           'timestamp'    '1000'   '50 000'  \\\n0     '2023-07-19'   '17:47:15'   '1689788835.807359'  0.000033   0.221139   \n1     '2023-07-19'   '18:24:39'   '1689791079.323281'  0.000033   0.160544   \n2     '2023-07-19'   '18:50:06'   '1689792606.527365'  0.000033   0.022244   \n3     '2023-07-19'   '19:27:20'   '1689794840.923276'  0.000033   0.118858   \n4     '2023-07-19'   '19:53:04'   '1689796384.776746'  0.000033   0.203635   \n..             ...          ...                   ...       ...        ...   \n157   '2023-07-24'   '10:08:47'   '1690193327.223297'  0.000034   0.489081   \n158   '2023-07-24'   '10:27:05'   '1690194425.183332'  0.000034   0.069222   \n159   '2023-07-24'   '11:11:20'   '1690197080.095331'  0.000034   0.162747   \n160   '2023-07-24'   '11:30:19'   '1690198219.536592'  0.000034   0.282600   \n161   '2023-07-24'   '12:14:00'   '1690200840.628046'  0.000034  -0.077765   \n\n      '200 000'   '300 000'   '400 000'            '500 000']  \n0      0.512955    0.643099    0.586246   0.9116512330731013]  \n1      0.281088    0.439772    0.439134    0.741995865711786]  \n2      0.424229    0.582685    0.582049   0.8844755854083246]  \n3      0.422314    0.546118    0.669519   0.8036944345415407]  \n4      0.361283    0.485164    0.608640    0.742897658786049]  \n..          ...         ...         ...                   ...  \n157   -1.167546    0.622088   -1.016159   -0.871491372275699]  \n158    0.396906    0.596356    0.668999   0.8493153182071893]  \n159    0.490124    0.565960    0.761962   0.9421101112258583]  \n160    0.449335    0.505105    0.682820   0.8131594553631771]  \n161    0.089573    0.364335    0.323902   0.4547118573062079]  \n\n[162 rows x 9 columns]",
      "text/html": "<div>\n<style scoped>\n    .dataframe tbody tr th:only-of-type {\n        vertical-align: middle;\n    }\n\n    .dataframe tbody tr th {\n        vertical-align: top;\n    }\n\n    .dataframe thead th {\n        text-align: right;\n    }\n</style>\n<table border=\"1\" class=\"dataframe\">\n  <thead>\n    <tr style=\"text-align: right;\">\n      <th></th>\n      <th>'date'</th>\n      <th>'time'</th>\n      <th>'timestamp'</th>\n      <th>'1000'</th>\n      <th>'50 000'</th>\n      <th>'200 000'</th>\n      <th>'300 000'</th>\n      <th>'400 000'</th>\n      <th>'500 000']</th>\n    </tr>\n  </thead>\n  <tbody>\n    <tr>\n      <th>0</th>\n      <td>'2023-07-19'</td>\n      <td>'17:47:15'</td>\n      <td>'1689788835.807359'</td>\n      <td>0.000033</td>\n      <td>0.221139</td>\n      <td>0.512955</td>\n      <td>0.643099</td>\n      <td>0.586246</td>\n      <td>0.9116512330731013]</td>\n    </tr>\n    <tr>\n      <th>1</th>\n      <td>'2023-07-19'</td>\n      <td>'18:24:39'</td>\n      <td>'1689791079.323281'</td>\n      <td>0.000033</td>\n      <td>0.160544</td>\n      <td>0.281088</td>\n      <td>0.439772</td>\n      <td>0.439134</td>\n      <td>0.741995865711786]</td>\n    </tr>\n    <tr>\n      <th>2</th>\n      <td>'2023-07-19'</td>\n      <td>'18:50:06'</td>\n      <td>'1689792606.527365'</td>\n      <td>0.000033</td>\n      <td>0.022244</td>\n      <td>0.424229</td>\n      <td>0.582685</td>\n      <td>0.582049</td>\n      <td>0.8844755854083246]</td>\n    </tr>\n    <tr>\n      <th>3</th>\n      <td>'2023-07-19'</td>\n      <td>'19:27:20'</td>\n      <td>'1689794840.923276'</td>\n      <td>0.000033</td>\n      <td>0.118858</td>\n      <td>0.422314</td>\n      <td>0.546118</td>\n      <td>0.669519</td>\n      <td>0.8036944345415407]</td>\n    </tr>\n    <tr>\n      <th>4</th>\n      <td>'2023-07-19'</td>\n      <td>'19:53:04'</td>\n      <td>'1689796384.776746'</td>\n      <td>0.000033</td>\n      <td>0.203635</td>\n      <td>0.361283</td>\n      <td>0.485164</td>\n      <td>0.608640</td>\n      <td>0.742897658786049]</td>\n    </tr>\n    <tr>\n      <th>...</th>\n      <td>...</td>\n      <td>...</td>\n      <td>...</td>\n      <td>...</td>\n      <td>...</td>\n      <td>...</td>\n      <td>...</td>\n      <td>...</td>\n      <td>...</td>\n    </tr>\n    <tr>\n      <th>157</th>\n      <td>'2023-07-24'</td>\n      <td>'10:08:47'</td>\n      <td>'1690193327.223297'</td>\n      <td>0.000034</td>\n      <td>0.489081</td>\n      <td>-1.167546</td>\n      <td>0.622088</td>\n      <td>-1.016159</td>\n      <td>-0.871491372275699]</td>\n    </tr>\n    <tr>\n      <th>158</th>\n      <td>'2023-07-24'</td>\n      <td>'10:27:05'</td>\n      <td>'1690194425.183332'</td>\n      <td>0.000034</td>\n      <td>0.069222</td>\n      <td>0.396906</td>\n      <td>0.596356</td>\n      <td>0.668999</td>\n      <td>0.8493153182071893]</td>\n    </tr>\n    <tr>\n      <th>159</th>\n      <td>'2023-07-24'</td>\n      <td>'11:11:20'</td>\n      <td>'1690197080.095331'</td>\n      <td>0.000034</td>\n      <td>0.162747</td>\n      <td>0.490124</td>\n      <td>0.565960</td>\n      <td>0.761962</td>\n      <td>0.9421101112258583]</td>\n    </tr>\n    <tr>\n      <th>160</th>\n      <td>'2023-07-24'</td>\n      <td>'11:30:19'</td>\n      <td>'1690198219.536592'</td>\n      <td>0.000034</td>\n      <td>0.282600</td>\n      <td>0.449335</td>\n      <td>0.505105</td>\n      <td>0.682820</td>\n      <td>0.8131594553631771]</td>\n    </tr>\n    <tr>\n      <th>161</th>\n      <td>'2023-07-24'</td>\n      <td>'12:14:00'</td>\n      <td>'1690200840.628046'</td>\n      <td>0.000034</td>\n      <td>-0.077765</td>\n      <td>0.089573</td>\n      <td>0.364335</td>\n      <td>0.323902</td>\n      <td>0.4547118573062079]</td>\n    </tr>\n  </tbody>\n</table>\n<p>162 rows × 9 columns</p>\n</div>"
     },
     "metadata": {}
    }
   ]
  },
  {
   "cell_type": "code",
   "source": [
    "df_PI = pd.melt(df_PI, id_vars=df_PI.columns[[0,1,2]], var_name='Position Size', value_name='PI')\n",
    "df_PI"
   ],
   "metadata": {
    "execution": {
     "iopub.status.busy": "2023-07-25T07:26:03.949647Z",
     "iopub.execute_input": "2023-07-25T07:26:03.949893Z",
     "iopub.status.idle": "2023-07-25T07:26:03.970323Z",
     "shell.execute_reply.started": "2023-07-25T07:26:03.949871Z",
     "shell.execute_reply": "2023-07-25T07:26:03.969251Z"
    },
    "trusted": true
   },
   "execution_count": 22,
   "outputs": [
    {
     "execution_count": 22,
     "output_type": "execute_result",
     "data": {
      "text/plain": "            'date'       'time'           'timestamp' Position Size  \\\n0     '2023-07-19'   '17:47:15'   '1689788835.807359'        '1000'   \n1     '2023-07-19'   '18:24:39'   '1689791079.323281'        '1000'   \n2     '2023-07-19'   '18:50:06'   '1689792606.527365'        '1000'   \n3     '2023-07-19'   '19:27:20'   '1689794840.923276'        '1000'   \n4     '2023-07-19'   '19:53:04'   '1689796384.776746'        '1000'   \n..             ...          ...                   ...           ...   \n967   '2023-07-24'   '10:08:47'   '1690193327.223297'    '500 000']   \n968   '2023-07-24'   '10:27:05'   '1690194425.183332'    '500 000']   \n969   '2023-07-24'   '11:11:20'   '1690197080.095331'    '500 000']   \n970   '2023-07-24'   '11:30:19'   '1690198219.536592'    '500 000']   \n971   '2023-07-24'   '12:14:00'   '1690200840.628046'    '500 000']   \n\n                       PI  \n0                0.000033  \n1                0.000033  \n2                0.000033  \n3                0.000033  \n4                0.000033  \n..                    ...  \n967   -0.871491372275699]  \n968   0.8493153182071893]  \n969   0.9421101112258583]  \n970   0.8131594553631771]  \n971   0.4547118573062079]  \n\n[972 rows x 5 columns]",
      "text/html": "<div>\n<style scoped>\n    .dataframe tbody tr th:only-of-type {\n        vertical-align: middle;\n    }\n\n    .dataframe tbody tr th {\n        vertical-align: top;\n    }\n\n    .dataframe thead th {\n        text-align: right;\n    }\n</style>\n<table border=\"1\" class=\"dataframe\">\n  <thead>\n    <tr style=\"text-align: right;\">\n      <th></th>\n      <th>'date'</th>\n      <th>'time'</th>\n      <th>'timestamp'</th>\n      <th>Position Size</th>\n      <th>PI</th>\n    </tr>\n  </thead>\n  <tbody>\n    <tr>\n      <th>0</th>\n      <td>'2023-07-19'</td>\n      <td>'17:47:15'</td>\n      <td>'1689788835.807359'</td>\n      <td>'1000'</td>\n      <td>0.000033</td>\n    </tr>\n    <tr>\n      <th>1</th>\n      <td>'2023-07-19'</td>\n      <td>'18:24:39'</td>\n      <td>'1689791079.323281'</td>\n      <td>'1000'</td>\n      <td>0.000033</td>\n    </tr>\n    <tr>\n      <th>2</th>\n      <td>'2023-07-19'</td>\n      <td>'18:50:06'</td>\n      <td>'1689792606.527365'</td>\n      <td>'1000'</td>\n      <td>0.000033</td>\n    </tr>\n    <tr>\n      <th>3</th>\n      <td>'2023-07-19'</td>\n      <td>'19:27:20'</td>\n      <td>'1689794840.923276'</td>\n      <td>'1000'</td>\n      <td>0.000033</td>\n    </tr>\n    <tr>\n      <th>4</th>\n      <td>'2023-07-19'</td>\n      <td>'19:53:04'</td>\n      <td>'1689796384.776746'</td>\n      <td>'1000'</td>\n      <td>0.000033</td>\n    </tr>\n    <tr>\n      <th>...</th>\n      <td>...</td>\n      <td>...</td>\n      <td>...</td>\n      <td>...</td>\n      <td>...</td>\n    </tr>\n    <tr>\n      <th>967</th>\n      <td>'2023-07-24'</td>\n      <td>'10:08:47'</td>\n      <td>'1690193327.223297'</td>\n      <td>'500 000']</td>\n      <td>-0.871491372275699]</td>\n    </tr>\n    <tr>\n      <th>968</th>\n      <td>'2023-07-24'</td>\n      <td>'10:27:05'</td>\n      <td>'1690194425.183332'</td>\n      <td>'500 000']</td>\n      <td>0.8493153182071893]</td>\n    </tr>\n    <tr>\n      <th>969</th>\n      <td>'2023-07-24'</td>\n      <td>'11:11:20'</td>\n      <td>'1690197080.095331'</td>\n      <td>'500 000']</td>\n      <td>0.9421101112258583]</td>\n    </tr>\n    <tr>\n      <th>970</th>\n      <td>'2023-07-24'</td>\n      <td>'11:30:19'</td>\n      <td>'1690198219.536592'</td>\n      <td>'500 000']</td>\n      <td>0.8131594553631771]</td>\n    </tr>\n    <tr>\n      <th>971</th>\n      <td>'2023-07-24'</td>\n      <td>'12:14:00'</td>\n      <td>'1690200840.628046'</td>\n      <td>'500 000']</td>\n      <td>0.4547118573062079]</td>\n    </tr>\n  </tbody>\n</table>\n<p>972 rows × 5 columns</p>\n</div>"
     },
     "metadata": {}
    }
   ]
  },
  {
   "cell_type": "code",
   "source": [
    "df_PI"
   ],
   "metadata": {
    "execution": {
     "iopub.status.busy": "2023-07-25T07:26:03.971813Z",
     "iopub.execute_input": "2023-07-25T07:26:03.972139Z",
     "iopub.status.idle": "2023-07-25T07:26:03.985902Z",
     "shell.execute_reply.started": "2023-07-25T07:26:03.972107Z",
     "shell.execute_reply": "2023-07-25T07:26:03.985168Z"
    },
    "trusted": true
   },
   "execution_count": 23,
   "outputs": [
    {
     "execution_count": 23,
     "output_type": "execute_result",
     "data": {
      "text/plain": "            'date'       'time'           'timestamp' Position Size  \\\n0     '2023-07-19'   '17:47:15'   '1689788835.807359'        '1000'   \n1     '2023-07-19'   '18:24:39'   '1689791079.323281'        '1000'   \n2     '2023-07-19'   '18:50:06'   '1689792606.527365'        '1000'   \n3     '2023-07-19'   '19:27:20'   '1689794840.923276'        '1000'   \n4     '2023-07-19'   '19:53:04'   '1689796384.776746'        '1000'   \n..             ...          ...                   ...           ...   \n967   '2023-07-24'   '10:08:47'   '1690193327.223297'    '500 000']   \n968   '2023-07-24'   '10:27:05'   '1690194425.183332'    '500 000']   \n969   '2023-07-24'   '11:11:20'   '1690197080.095331'    '500 000']   \n970   '2023-07-24'   '11:30:19'   '1690198219.536592'    '500 000']   \n971   '2023-07-24'   '12:14:00'   '1690200840.628046'    '500 000']   \n\n                       PI  \n0                0.000033  \n1                0.000033  \n2                0.000033  \n3                0.000033  \n4                0.000033  \n..                    ...  \n967   -0.871491372275699]  \n968   0.8493153182071893]  \n969   0.9421101112258583]  \n970   0.8131594553631771]  \n971   0.4547118573062079]  \n\n[972 rows x 5 columns]",
      "text/html": "<div>\n<style scoped>\n    .dataframe tbody tr th:only-of-type {\n        vertical-align: middle;\n    }\n\n    .dataframe tbody tr th {\n        vertical-align: top;\n    }\n\n    .dataframe thead th {\n        text-align: right;\n    }\n</style>\n<table border=\"1\" class=\"dataframe\">\n  <thead>\n    <tr style=\"text-align: right;\">\n      <th></th>\n      <th>'date'</th>\n      <th>'time'</th>\n      <th>'timestamp'</th>\n      <th>Position Size</th>\n      <th>PI</th>\n    </tr>\n  </thead>\n  <tbody>\n    <tr>\n      <th>0</th>\n      <td>'2023-07-19'</td>\n      <td>'17:47:15'</td>\n      <td>'1689788835.807359'</td>\n      <td>'1000'</td>\n      <td>0.000033</td>\n    </tr>\n    <tr>\n      <th>1</th>\n      <td>'2023-07-19'</td>\n      <td>'18:24:39'</td>\n      <td>'1689791079.323281'</td>\n      <td>'1000'</td>\n      <td>0.000033</td>\n    </tr>\n    <tr>\n      <th>2</th>\n      <td>'2023-07-19'</td>\n      <td>'18:50:06'</td>\n      <td>'1689792606.527365'</td>\n      <td>'1000'</td>\n      <td>0.000033</td>\n    </tr>\n    <tr>\n      <th>3</th>\n      <td>'2023-07-19'</td>\n      <td>'19:27:20'</td>\n      <td>'1689794840.923276'</td>\n      <td>'1000'</td>\n      <td>0.000033</td>\n    </tr>\n    <tr>\n      <th>4</th>\n      <td>'2023-07-19'</td>\n      <td>'19:53:04'</td>\n      <td>'1689796384.776746'</td>\n      <td>'1000'</td>\n      <td>0.000033</td>\n    </tr>\n    <tr>\n      <th>...</th>\n      <td>...</td>\n      <td>...</td>\n      <td>...</td>\n      <td>...</td>\n      <td>...</td>\n    </tr>\n    <tr>\n      <th>967</th>\n      <td>'2023-07-24'</td>\n      <td>'10:08:47'</td>\n      <td>'1690193327.223297'</td>\n      <td>'500 000']</td>\n      <td>-0.871491372275699]</td>\n    </tr>\n    <tr>\n      <th>968</th>\n      <td>'2023-07-24'</td>\n      <td>'10:27:05'</td>\n      <td>'1690194425.183332'</td>\n      <td>'500 000']</td>\n      <td>0.8493153182071893]</td>\n    </tr>\n    <tr>\n      <th>969</th>\n      <td>'2023-07-24'</td>\n      <td>'11:11:20'</td>\n      <td>'1690197080.095331'</td>\n      <td>'500 000']</td>\n      <td>0.9421101112258583]</td>\n    </tr>\n    <tr>\n      <th>970</th>\n      <td>'2023-07-24'</td>\n      <td>'11:30:19'</td>\n      <td>'1690198219.536592'</td>\n      <td>'500 000']</td>\n      <td>0.8131594553631771]</td>\n    </tr>\n    <tr>\n      <th>971</th>\n      <td>'2023-07-24'</td>\n      <td>'12:14:00'</td>\n      <td>'1690200840.628046'</td>\n      <td>'500 000']</td>\n      <td>0.4547118573062079]</td>\n    </tr>\n  </tbody>\n</table>\n<p>972 rows × 5 columns</p>\n</div>"
     },
     "metadata": {}
    }
   ]
  },
  {
   "cell_type": "code",
   "source": [
    "df_PI[df_PI.columns[[0,1,2,3]]] = df_PI[df_PI.columns[[0,1,2,3]]].apply(lambda x: x.str.replace(\"]\", ''))\n",
    "df_PI[df_PI.columns[[0,1,2,3]]] = df_PI[df_PI.columns[[0,1,2,3]]].apply(lambda x: x.str.replace(\"'\", ''))\n",
    "df_PI.rename(columns={\n",
    "    df_PI.columns[0]: \"date\",\n",
    "    df_PI.columns[1]: \"time\",\n",
    "    df_PI.columns[2]: \"timestamp\"},inplace= True)\n",
    "df_PI.isna().any()"
   ],
   "metadata": {
    "execution": {
     "iopub.status.busy": "2023-07-25T07:26:03.987610Z",
     "iopub.execute_input": "2023-07-25T07:26:03.987926Z",
     "iopub.status.idle": "2023-07-25T07:26:04.015575Z",
     "shell.execute_reply.started": "2023-07-25T07:26:03.987899Z",
     "shell.execute_reply": "2023-07-25T07:26:04.014320Z"
    },
    "trusted": true
   },
   "execution_count": 24,
   "outputs": [
    {
     "name": "stderr",
     "text": "/tmp/ipykernel_32/2140512977.py:1: FutureWarning:\n\nThe default value of regex will change from True to False in a future version. In addition, single character regular expressions will *not* be treated as literal strings when regex=True.\n\n",
     "output_type": "stream"
    },
    {
     "execution_count": 24,
     "output_type": "execute_result",
     "data": {
      "text/plain": "date             False\ntime             False\ntimestamp        False\nPosition Size    False\nPI               False\ndtype: bool"
     },
     "metadata": {}
    }
   ]
  },
  {
   "cell_type": "code",
   "source": [
    "def try_convert_to_float(value):\n",
    "    try:\n",
    "        return float(value)\n",
    "    except ValueError:\n",
    "        return float(value.replace(\"]\", ''))\n",
    "    \n",
    "def try_convert_to_int(value):\n",
    "    try:\n",
    "        return int(value)\n",
    "    except ValueError:\n",
    "        return int(value.replace(' ', ''))\n",
    "\n",
    "df_PI['PI'] = df_PI['PI'].apply(try_convert_to_float)\n",
    "df_PI['Position Size'] = df_PI['Position Size'].apply(try_convert_to_int)"
   ],
   "metadata": {
    "execution": {
     "iopub.status.busy": "2023-07-25T07:26:04.017721Z",
     "iopub.execute_input": "2023-07-25T07:26:04.018103Z",
     "iopub.status.idle": "2023-07-25T07:26:04.029771Z",
     "shell.execute_reply.started": "2023-07-25T07:26:04.018065Z",
     "shell.execute_reply": "2023-07-25T07:26:04.028791Z"
    },
    "trusted": true
   },
   "execution_count": 25,
   "outputs": []
  },
  {
   "cell_type": "code",
   "source": [
    "df_PI['datetime'] = df_PI['date'] + ' ' + df_PI['time']\n",
    "df_PI"
   ],
   "metadata": {
    "execution": {
     "iopub.status.busy": "2023-07-25T07:26:04.031138Z",
     "iopub.execute_input": "2023-07-25T07:26:04.031506Z",
     "iopub.status.idle": "2023-07-25T07:26:04.052130Z",
     "shell.execute_reply.started": "2023-07-25T07:26:04.031477Z",
     "shell.execute_reply": "2023-07-25T07:26:04.051370Z"
    },
    "trusted": true
   },
   "execution_count": 26,
   "outputs": [
    {
     "execution_count": 26,
     "output_type": "execute_result",
     "data": {
      "text/plain": "            date       time           timestamp  Position Size        PI  \\\n0     2023-07-19   17:47:15   1689788835.807359           1000  0.000033   \n1     2023-07-19   18:24:39   1689791079.323281           1000  0.000033   \n2     2023-07-19   18:50:06   1689792606.527365           1000  0.000033   \n3     2023-07-19   19:27:20   1689794840.923276           1000  0.000033   \n4     2023-07-19   19:53:04   1689796384.776746           1000  0.000033   \n..           ...        ...                 ...            ...       ...   \n967   2023-07-24   10:08:47   1690193327.223297         500000 -0.871491   \n968   2023-07-24   10:27:05   1690194425.183332         500000  0.849315   \n969   2023-07-24   11:11:20   1690197080.095331         500000  0.942110   \n970   2023-07-24   11:30:19   1690198219.536592         500000  0.813159   \n971   2023-07-24   12:14:00   1690200840.628046         500000  0.454712   \n\n                  datetime  \n0     2023-07-19  17:47:15  \n1     2023-07-19  18:24:39  \n2     2023-07-19  18:50:06  \n3     2023-07-19  19:27:20  \n4     2023-07-19  19:53:04  \n..                     ...  \n967   2023-07-24  10:08:47  \n968   2023-07-24  10:27:05  \n969   2023-07-24  11:11:20  \n970   2023-07-24  11:30:19  \n971   2023-07-24  12:14:00  \n\n[972 rows x 6 columns]",
      "text/html": "<div>\n<style scoped>\n    .dataframe tbody tr th:only-of-type {\n        vertical-align: middle;\n    }\n\n    .dataframe tbody tr th {\n        vertical-align: top;\n    }\n\n    .dataframe thead th {\n        text-align: right;\n    }\n</style>\n<table border=\"1\" class=\"dataframe\">\n  <thead>\n    <tr style=\"text-align: right;\">\n      <th></th>\n      <th>date</th>\n      <th>time</th>\n      <th>timestamp</th>\n      <th>Position Size</th>\n      <th>PI</th>\n      <th>datetime</th>\n    </tr>\n  </thead>\n  <tbody>\n    <tr>\n      <th>0</th>\n      <td>2023-07-19</td>\n      <td>17:47:15</td>\n      <td>1689788835.807359</td>\n      <td>1000</td>\n      <td>0.000033</td>\n      <td>2023-07-19  17:47:15</td>\n    </tr>\n    <tr>\n      <th>1</th>\n      <td>2023-07-19</td>\n      <td>18:24:39</td>\n      <td>1689791079.323281</td>\n      <td>1000</td>\n      <td>0.000033</td>\n      <td>2023-07-19  18:24:39</td>\n    </tr>\n    <tr>\n      <th>2</th>\n      <td>2023-07-19</td>\n      <td>18:50:06</td>\n      <td>1689792606.527365</td>\n      <td>1000</td>\n      <td>0.000033</td>\n      <td>2023-07-19  18:50:06</td>\n    </tr>\n    <tr>\n      <th>3</th>\n      <td>2023-07-19</td>\n      <td>19:27:20</td>\n      <td>1689794840.923276</td>\n      <td>1000</td>\n      <td>0.000033</td>\n      <td>2023-07-19  19:27:20</td>\n    </tr>\n    <tr>\n      <th>4</th>\n      <td>2023-07-19</td>\n      <td>19:53:04</td>\n      <td>1689796384.776746</td>\n      <td>1000</td>\n      <td>0.000033</td>\n      <td>2023-07-19  19:53:04</td>\n    </tr>\n    <tr>\n      <th>...</th>\n      <td>...</td>\n      <td>...</td>\n      <td>...</td>\n      <td>...</td>\n      <td>...</td>\n      <td>...</td>\n    </tr>\n    <tr>\n      <th>967</th>\n      <td>2023-07-24</td>\n      <td>10:08:47</td>\n      <td>1690193327.223297</td>\n      <td>500000</td>\n      <td>-0.871491</td>\n      <td>2023-07-24  10:08:47</td>\n    </tr>\n    <tr>\n      <th>968</th>\n      <td>2023-07-24</td>\n      <td>10:27:05</td>\n      <td>1690194425.183332</td>\n      <td>500000</td>\n      <td>0.849315</td>\n      <td>2023-07-24  10:27:05</td>\n    </tr>\n    <tr>\n      <th>969</th>\n      <td>2023-07-24</td>\n      <td>11:11:20</td>\n      <td>1690197080.095331</td>\n      <td>500000</td>\n      <td>0.942110</td>\n      <td>2023-07-24  11:11:20</td>\n    </tr>\n    <tr>\n      <th>970</th>\n      <td>2023-07-24</td>\n      <td>11:30:19</td>\n      <td>1690198219.536592</td>\n      <td>500000</td>\n      <td>0.813159</td>\n      <td>2023-07-24  11:30:19</td>\n    </tr>\n    <tr>\n      <th>971</th>\n      <td>2023-07-24</td>\n      <td>12:14:00</td>\n      <td>1690200840.628046</td>\n      <td>500000</td>\n      <td>0.454712</td>\n      <td>2023-07-24  12:14:00</td>\n    </tr>\n  </tbody>\n</table>\n<p>972 rows × 6 columns</p>\n</div>"
     },
     "metadata": {}
    }
   ]
  },
  {
   "cell_type": "code",
   "source": [
    "df_PI['datetime'] = pd.to_datetime(df_PI['datetime'])\n",
    "df_PI['datetime'] = df_PI['datetime'].apply(lambda dt: dt.replace(minute=0, second=0) if dt.minute < 30 else dt.replace(minute=0, second=0) + timedelta(hours=1))\n",
    "df_PI['date'] = df_PI['datetime']\n",
    "df_PI = df_PI.drop(['time','timestamp','datetime'],axis = 1)\n",
    "df_PI"
   ],
   "metadata": {
    "execution": {
     "iopub.status.busy": "2023-07-25T07:26:04.054932Z",
     "iopub.execute_input": "2023-07-25T07:26:04.055252Z",
     "iopub.status.idle": "2023-07-25T07:26:04.209673Z",
     "shell.execute_reply.started": "2023-07-25T07:26:04.055220Z",
     "shell.execute_reply": "2023-07-25T07:26:04.208665Z"
    },
    "trusted": true
   },
   "execution_count": 27,
   "outputs": [
    {
     "execution_count": 27,
     "output_type": "execute_result",
     "data": {
      "text/plain": "                   date  Position Size        PI\n0   2023-07-19 18:00:00           1000  0.000033\n1   2023-07-19 18:00:00           1000  0.000033\n2   2023-07-19 19:00:00           1000  0.000033\n3   2023-07-19 19:00:00           1000  0.000033\n4   2023-07-19 20:00:00           1000  0.000033\n..                  ...            ...       ...\n967 2023-07-24 10:00:00         500000 -0.871491\n968 2023-07-24 10:00:00         500000  0.849315\n969 2023-07-24 11:00:00         500000  0.942110\n970 2023-07-24 12:00:00         500000  0.813159\n971 2023-07-24 12:00:00         500000  0.454712\n\n[972 rows x 3 columns]",
      "text/html": "<div>\n<style scoped>\n    .dataframe tbody tr th:only-of-type {\n        vertical-align: middle;\n    }\n\n    .dataframe tbody tr th {\n        vertical-align: top;\n    }\n\n    .dataframe thead th {\n        text-align: right;\n    }\n</style>\n<table border=\"1\" class=\"dataframe\">\n  <thead>\n    <tr style=\"text-align: right;\">\n      <th></th>\n      <th>date</th>\n      <th>Position Size</th>\n      <th>PI</th>\n    </tr>\n  </thead>\n  <tbody>\n    <tr>\n      <th>0</th>\n      <td>2023-07-19 18:00:00</td>\n      <td>1000</td>\n      <td>0.000033</td>\n    </tr>\n    <tr>\n      <th>1</th>\n      <td>2023-07-19 18:00:00</td>\n      <td>1000</td>\n      <td>0.000033</td>\n    </tr>\n    <tr>\n      <th>2</th>\n      <td>2023-07-19 19:00:00</td>\n      <td>1000</td>\n      <td>0.000033</td>\n    </tr>\n    <tr>\n      <th>3</th>\n      <td>2023-07-19 19:00:00</td>\n      <td>1000</td>\n      <td>0.000033</td>\n    </tr>\n    <tr>\n      <th>4</th>\n      <td>2023-07-19 20:00:00</td>\n      <td>1000</td>\n      <td>0.000033</td>\n    </tr>\n    <tr>\n      <th>...</th>\n      <td>...</td>\n      <td>...</td>\n      <td>...</td>\n    </tr>\n    <tr>\n      <th>967</th>\n      <td>2023-07-24 10:00:00</td>\n      <td>500000</td>\n      <td>-0.871491</td>\n    </tr>\n    <tr>\n      <th>968</th>\n      <td>2023-07-24 10:00:00</td>\n      <td>500000</td>\n      <td>0.849315</td>\n    </tr>\n    <tr>\n      <th>969</th>\n      <td>2023-07-24 11:00:00</td>\n      <td>500000</td>\n      <td>0.942110</td>\n    </tr>\n    <tr>\n      <th>970</th>\n      <td>2023-07-24 12:00:00</td>\n      <td>500000</td>\n      <td>0.813159</td>\n    </tr>\n    <tr>\n      <th>971</th>\n      <td>2023-07-24 12:00:00</td>\n      <td>500000</td>\n      <td>0.454712</td>\n    </tr>\n  </tbody>\n</table>\n<p>972 rows × 3 columns</p>\n</div>"
     },
     "metadata": {}
    }
   ]
  },
  {
   "cell_type": "code",
   "source": [
    "df_PI = df_PI.groupby(['date','Position Size']).mean()\n",
    "df_PI = df_PI.reset_index()"
   ],
   "metadata": {
    "execution": {
     "iopub.status.busy": "2023-07-25T07:26:04.211070Z",
     "iopub.execute_input": "2023-07-25T07:26:04.211386Z",
     "iopub.status.idle": "2023-07-25T07:26:04.220421Z",
     "shell.execute_reply.started": "2023-07-25T07:26:04.211333Z",
     "shell.execute_reply": "2023-07-25T07:26:04.219561Z"
    },
    "trusted": true
   },
   "execution_count": 28,
   "outputs": []
  },
  {
   "cell_type": "code",
   "source": [
    "df_PI[:30]"
   ],
   "metadata": {
    "execution": {
     "iopub.status.busy": "2023-07-25T07:26:04.221743Z",
     "iopub.execute_input": "2023-07-25T07:26:04.222030Z",
     "iopub.status.idle": "2023-07-25T07:26:04.237047Z",
     "shell.execute_reply.started": "2023-07-25T07:26:04.222005Z",
     "shell.execute_reply": "2023-07-25T07:26:04.235909Z"
    },
    "trusted": true
   },
   "execution_count": 29,
   "outputs": [
    {
     "execution_count": 29,
     "output_type": "execute_result",
     "data": {
      "text/plain": "                  date  Position Size        PI\n0  2023-07-19 18:00:00           1000  0.000033\n1  2023-07-19 18:00:00          50000  0.190842\n2  2023-07-19 18:00:00         200000  0.397021\n3  2023-07-19 18:00:00         300000  0.541435\n4  2023-07-19 18:00:00         400000  0.512690\n5  2023-07-19 18:00:00         500000  0.826824\n6  2023-07-19 19:00:00           1000  0.000033\n7  2023-07-19 19:00:00          50000  0.070551\n8  2023-07-19 19:00:00         200000  0.423271\n9  2023-07-19 19:00:00         300000  0.564402\n10 2023-07-19 19:00:00         400000  0.625784\n11 2023-07-19 19:00:00         500000  0.844085\n12 2023-07-19 20:00:00           1000  0.000033\n13 2023-07-19 20:00:00          50000  0.203635\n14 2023-07-19 20:00:00         200000  0.361283\n15 2023-07-19 20:00:00         300000  0.485164\n16 2023-07-19 20:00:00         400000  0.608640\n17 2023-07-19 20:00:00         500000  0.742898\n18 2023-07-19 21:00:00           1000  0.000033\n19 2023-07-19 21:00:00          50000  0.163872\n20 2023-07-19 21:00:00         200000  0.289123\n21 2023-07-19 21:00:00         300000  0.405242\n22 2023-07-19 21:00:00         400000  0.565627\n23 2023-07-19 21:00:00         500000  0.652320\n24 2023-07-20 03:00:00           1000  0.000033\n25 2023-07-20 03:00:00          50000  0.163397\n26 2023-07-20 03:00:00         200000  0.363804\n27 2023-07-20 03:00:00         300000  0.446174\n28 2023-07-20 03:00:00         400000  0.556901\n29 2023-07-20 03:00:00         500000  0.712688",
      "text/html": "<div>\n<style scoped>\n    .dataframe tbody tr th:only-of-type {\n        vertical-align: middle;\n    }\n\n    .dataframe tbody tr th {\n        vertical-align: top;\n    }\n\n    .dataframe thead th {\n        text-align: right;\n    }\n</style>\n<table border=\"1\" class=\"dataframe\">\n  <thead>\n    <tr style=\"text-align: right;\">\n      <th></th>\n      <th>date</th>\n      <th>Position Size</th>\n      <th>PI</th>\n    </tr>\n  </thead>\n  <tbody>\n    <tr>\n      <th>0</th>\n      <td>2023-07-19 18:00:00</td>\n      <td>1000</td>\n      <td>0.000033</td>\n    </tr>\n    <tr>\n      <th>1</th>\n      <td>2023-07-19 18:00:00</td>\n      <td>50000</td>\n      <td>0.190842</td>\n    </tr>\n    <tr>\n      <th>2</th>\n      <td>2023-07-19 18:00:00</td>\n      <td>200000</td>\n      <td>0.397021</td>\n    </tr>\n    <tr>\n      <th>3</th>\n      <td>2023-07-19 18:00:00</td>\n      <td>300000</td>\n      <td>0.541435</td>\n    </tr>\n    <tr>\n      <th>4</th>\n      <td>2023-07-19 18:00:00</td>\n      <td>400000</td>\n      <td>0.512690</td>\n    </tr>\n    <tr>\n      <th>5</th>\n      <td>2023-07-19 18:00:00</td>\n      <td>500000</td>\n      <td>0.826824</td>\n    </tr>\n    <tr>\n      <th>6</th>\n      <td>2023-07-19 19:00:00</td>\n      <td>1000</td>\n      <td>0.000033</td>\n    </tr>\n    <tr>\n      <th>7</th>\n      <td>2023-07-19 19:00:00</td>\n      <td>50000</td>\n      <td>0.070551</td>\n    </tr>\n    <tr>\n      <th>8</th>\n      <td>2023-07-19 19:00:00</td>\n      <td>200000</td>\n      <td>0.423271</td>\n    </tr>\n    <tr>\n      <th>9</th>\n      <td>2023-07-19 19:00:00</td>\n      <td>300000</td>\n      <td>0.564402</td>\n    </tr>\n    <tr>\n      <th>10</th>\n      <td>2023-07-19 19:00:00</td>\n      <td>400000</td>\n      <td>0.625784</td>\n    </tr>\n    <tr>\n      <th>11</th>\n      <td>2023-07-19 19:00:00</td>\n      <td>500000</td>\n      <td>0.844085</td>\n    </tr>\n    <tr>\n      <th>12</th>\n      <td>2023-07-19 20:00:00</td>\n      <td>1000</td>\n      <td>0.000033</td>\n    </tr>\n    <tr>\n      <th>13</th>\n      <td>2023-07-19 20:00:00</td>\n      <td>50000</td>\n      <td>0.203635</td>\n    </tr>\n    <tr>\n      <th>14</th>\n      <td>2023-07-19 20:00:00</td>\n      <td>200000</td>\n      <td>0.361283</td>\n    </tr>\n    <tr>\n      <th>15</th>\n      <td>2023-07-19 20:00:00</td>\n      <td>300000</td>\n      <td>0.485164</td>\n    </tr>\n    <tr>\n      <th>16</th>\n      <td>2023-07-19 20:00:00</td>\n      <td>400000</td>\n      <td>0.608640</td>\n    </tr>\n    <tr>\n      <th>17</th>\n      <td>2023-07-19 20:00:00</td>\n      <td>500000</td>\n      <td>0.742898</td>\n    </tr>\n    <tr>\n      <th>18</th>\n      <td>2023-07-19 21:00:00</td>\n      <td>1000</td>\n      <td>0.000033</td>\n    </tr>\n    <tr>\n      <th>19</th>\n      <td>2023-07-19 21:00:00</td>\n      <td>50000</td>\n      <td>0.163872</td>\n    </tr>\n    <tr>\n      <th>20</th>\n      <td>2023-07-19 21:00:00</td>\n      <td>200000</td>\n      <td>0.289123</td>\n    </tr>\n    <tr>\n      <th>21</th>\n      <td>2023-07-19 21:00:00</td>\n      <td>300000</td>\n      <td>0.405242</td>\n    </tr>\n    <tr>\n      <th>22</th>\n      <td>2023-07-19 21:00:00</td>\n      <td>400000</td>\n      <td>0.565627</td>\n    </tr>\n    <tr>\n      <th>23</th>\n      <td>2023-07-19 21:00:00</td>\n      <td>500000</td>\n      <td>0.652320</td>\n    </tr>\n    <tr>\n      <th>24</th>\n      <td>2023-07-20 03:00:00</td>\n      <td>1000</td>\n      <td>0.000033</td>\n    </tr>\n    <tr>\n      <th>25</th>\n      <td>2023-07-20 03:00:00</td>\n      <td>50000</td>\n      <td>0.163397</td>\n    </tr>\n    <tr>\n      <th>26</th>\n      <td>2023-07-20 03:00:00</td>\n      <td>200000</td>\n      <td>0.363804</td>\n    </tr>\n    <tr>\n      <th>27</th>\n      <td>2023-07-20 03:00:00</td>\n      <td>300000</td>\n      <td>0.446174</td>\n    </tr>\n    <tr>\n      <th>28</th>\n      <td>2023-07-20 03:00:00</td>\n      <td>400000</td>\n      <td>0.556901</td>\n    </tr>\n    <tr>\n      <th>29</th>\n      <td>2023-07-20 03:00:00</td>\n      <td>500000</td>\n      <td>0.712688</td>\n    </tr>\n  </tbody>\n</table>\n</div>"
     },
     "metadata": {}
    }
   ]
  },
  {
   "cell_type": "code",
   "source": [
    "usdc_tvl =  pd.read_csv(r'/kaggle/input/usdc-tvl-new/usdc_tvl_data_new.csv')\n",
    "wbtc_tvl =  pd.read_csv(r'/kaggle/input/wbtc-tvl-new/wbtc_tvl_data_new.csv')\n",
    "wbtcusdc_tvl =  pd.read_csv(r'/kaggle/input/wbtcusdc-tvl-new/wbtcusdc_tvl_data_new.csv')\n",
    "usdc_tvl, wbtc_tvl, wbtcusdc_tvl"
   ],
   "metadata": {
    "execution": {
     "iopub.status.busy": "2023-07-25T07:26:04.238288Z",
     "iopub.execute_input": "2023-07-25T07:26:04.238741Z",
     "iopub.status.idle": "2023-07-25T07:26:04.270887Z",
     "shell.execute_reply.started": "2023-07-25T07:26:04.238711Z",
     "shell.execute_reply": "2023-07-25T07:26:04.269760Z"
    },
    "trusted": true
   },
   "execution_count": 30,
   "outputs": [
    {
     "execution_count": 30,
     "output_type": "execute_result",
     "data": {
      "text/plain": "(     Unnamed: 0   timestamp  tvl usd value                 date\n 0             0  1690207200   2.639523e+07  2023-07-24 17:00:00\n 1             1  1690203600   2.651592e+07  2023-07-24 16:00:00\n 2             2  1690200000   2.655860e+07  2023-07-24 15:00:00\n 3             3  1690196400   2.641694e+07  2023-07-24 14:00:00\n 4             4  1690192800   2.656083e+07  2023-07-24 13:00:00\n ..          ...         ...            ...                  ...\n 995         995  1686625200   2.583203e+07  2023-06-13 06:00:00\n 996         996  1686621600   2.604733e+07  2023-06-13 05:00:00\n 997         997  1686618000   2.550494e+07  2023-06-13 04:00:00\n 998         998  1686614400   2.530087e+07  2023-06-13 03:00:00\n 999         999  1686610800   2.558295e+07  2023-06-13 02:00:00\n \n [1000 rows x 4 columns],\n      Unnamed: 0   timestamp  tvl usd value                 date\n 0             0  1690207200   7.303723e+06  2023-07-24 17:00:00\n 1             1  1690203600   7.257680e+06  2023-07-24 16:00:00\n 2             2  1690200000   7.234591e+06  2023-07-24 15:00:00\n 3             3  1690196400   7.171634e+06  2023-07-24 14:00:00\n 4             4  1690192800   7.065380e+06  2023-07-24 13:00:00\n ..          ...         ...            ...                  ...\n 995         995  1686625200   7.250504e+06  2023-06-13 06:00:00\n 996         996  1686621600   7.434935e+06  2023-06-13 05:00:00\n 997         997  1686618000   7.138228e+06  2023-06-13 04:00:00\n 998         998  1686614400   7.017160e+06  2023-06-13 03:00:00\n 999         999  1686610800   7.505188e+06  2023-06-13 02:00:00\n \n [1000 rows x 4 columns],\n      Unnamed: 0   timestamp  tvl usd value           liqw                 date\n 0             0  1690210800   4.147259e+06   884414180472  2023-07-24 18:00:00\n 1             1  1690207200   4.154094e+06   878566887752  2023-07-24 17:00:00\n 2             2  1690203600   4.152901e+06  1029303639052  2023-07-24 16:00:00\n 3             3  1690200000   4.162585e+06  1028832457918  2023-07-24 15:00:00\n 4             4  1690196400   4.117122e+06   967377520469  2023-07-24 14:00:00\n ..          ...         ...            ...            ...                  ...\n 995         995  1686571200   3.608979e+06   706042037963  2023-06-12 15:00:00\n 996         996  1686567600   3.609136e+06   705594760373  2023-06-12 14:00:00\n 997         997  1686564000   3.610231e+06   704528742402  2023-06-12 13:00:00\n 998         998  1686560400   3.610461e+06   705564933291  2023-06-12 12:00:00\n 999         999  1686556800   3.598804e+06   637217312031  2023-06-12 11:00:00\n \n [1000 rows x 5 columns])"
     },
     "metadata": {}
    }
   ]
  },
  {
   "cell_type": "code",
   "source": [
    "usdc_tvl = usdc_tvl[['date', 'tvl usd value']]\n",
    "wbtc_tvl = wbtc_tvl[['date', 'tvl usd value']]\n",
    "wbtcusdc_tvl = wbtcusdc_tvl[['date', 'tvl usd value']]\n",
    "for i in [usdc_tvl, wbtc_tvl, wbtcusdc_tvl]:\n",
    "    i['date'] = pd.to_datetime(i['date'])"
   ],
   "metadata": {
    "execution": {
     "iopub.status.busy": "2023-07-25T07:26:04.272041Z",
     "iopub.execute_input": "2023-07-25T07:26:04.272563Z",
     "iopub.status.idle": "2023-07-25T07:26:04.285829Z",
     "shell.execute_reply.started": "2023-07-25T07:26:04.272533Z",
     "shell.execute_reply": "2023-07-25T07:26:04.284635Z"
    },
    "trusted": true
   },
   "execution_count": 31,
   "outputs": [
    {
     "name": "stderr",
     "text": "/tmp/ipykernel_32/2493557214.py:5: SettingWithCopyWarning:\n\n\nA value is trying to be set on a copy of a slice from a DataFrame.\nTry using .loc[row_indexer,col_indexer] = value instead\n\nSee the caveats in the documentation: https://pandas.pydata.org/pandas-docs/stable/user_guide/indexing.html#returning-a-view-versus-a-copy\n\n/tmp/ipykernel_32/2493557214.py:5: SettingWithCopyWarning:\n\n\nA value is trying to be set on a copy of a slice from a DataFrame.\nTry using .loc[row_indexer,col_indexer] = value instead\n\nSee the caveats in the documentation: https://pandas.pydata.org/pandas-docs/stable/user_guide/indexing.html#returning-a-view-versus-a-copy\n\n/tmp/ipykernel_32/2493557214.py:5: SettingWithCopyWarning:\n\n\nA value is trying to be set on a copy of a slice from a DataFrame.\nTry using .loc[row_indexer,col_indexer] = value instead\n\nSee the caveats in the documentation: https://pandas.pydata.org/pandas-docs/stable/user_guide/indexing.html#returning-a-view-versus-a-copy\n\n",
     "output_type": "stream"
    }
   ]
  },
  {
   "cell_type": "code",
   "source": [
    "df_merged = pd.merge(df_PI, usdc_tvl, on='date')\n",
    "df_merged = pd.merge(df_merged, wbtc_tvl, on='date')\n",
    "df_merged = pd.merge(df_merged, wbtcusdc_tvl, on='date')\n",
    "df_merged"
   ],
   "metadata": {
    "execution": {
     "iopub.status.busy": "2023-07-25T07:26:04.287183Z",
     "iopub.execute_input": "2023-07-25T07:26:04.287847Z",
     "iopub.status.idle": "2023-07-25T07:26:04.315264Z",
     "shell.execute_reply.started": "2023-07-25T07:26:04.287817Z",
     "shell.execute_reply": "2023-07-25T07:26:04.314207Z"
    },
    "trusted": true
   },
   "execution_count": 32,
   "outputs": [
    {
     "execution_count": 32,
     "output_type": "execute_result",
     "data": {
      "text/plain": "                   date  Position Size        PI  tvl usd value_x  \\\n0   2023-07-19 18:00:00           1000  0.000033     2.902537e+07   \n1   2023-07-19 18:00:00          50000  0.190842     2.902537e+07   \n2   2023-07-19 18:00:00         200000  0.397021     2.902537e+07   \n3   2023-07-19 18:00:00         300000  0.541435     2.902537e+07   \n4   2023-07-19 18:00:00         400000  0.512690     2.902537e+07   \n..                  ...            ...       ...              ...   \n535 2023-07-24 12:00:00          50000  0.102418     2.615057e+07   \n536 2023-07-24 12:00:00         200000  0.269454     2.615057e+07   \n537 2023-07-24 12:00:00         300000  0.434720     2.615057e+07   \n538 2023-07-24 12:00:00         400000  0.503361     2.615057e+07   \n539 2023-07-24 12:00:00         500000  0.633936     2.615057e+07   \n\n     tvl usd value_y  tvl usd value  \n0       7.381539e+06   4.195506e+06  \n1       7.381539e+06   4.195506e+06  \n2       7.381539e+06   4.195506e+06  \n3       7.381539e+06   4.195506e+06  \n4       7.381539e+06   4.195506e+06  \n..               ...            ...  \n535     7.094977e+06   4.186347e+06  \n536     7.094977e+06   4.186347e+06  \n537     7.094977e+06   4.186347e+06  \n538     7.094977e+06   4.186347e+06  \n539     7.094977e+06   4.186347e+06  \n\n[540 rows x 6 columns]",
      "text/html": "<div>\n<style scoped>\n    .dataframe tbody tr th:only-of-type {\n        vertical-align: middle;\n    }\n\n    .dataframe tbody tr th {\n        vertical-align: top;\n    }\n\n    .dataframe thead th {\n        text-align: right;\n    }\n</style>\n<table border=\"1\" class=\"dataframe\">\n  <thead>\n    <tr style=\"text-align: right;\">\n      <th></th>\n      <th>date</th>\n      <th>Position Size</th>\n      <th>PI</th>\n      <th>tvl usd value_x</th>\n      <th>tvl usd value_y</th>\n      <th>tvl usd value</th>\n    </tr>\n  </thead>\n  <tbody>\n    <tr>\n      <th>0</th>\n      <td>2023-07-19 18:00:00</td>\n      <td>1000</td>\n      <td>0.000033</td>\n      <td>2.902537e+07</td>\n      <td>7.381539e+06</td>\n      <td>4.195506e+06</td>\n    </tr>\n    <tr>\n      <th>1</th>\n      <td>2023-07-19 18:00:00</td>\n      <td>50000</td>\n      <td>0.190842</td>\n      <td>2.902537e+07</td>\n      <td>7.381539e+06</td>\n      <td>4.195506e+06</td>\n    </tr>\n    <tr>\n      <th>2</th>\n      <td>2023-07-19 18:00:00</td>\n      <td>200000</td>\n      <td>0.397021</td>\n      <td>2.902537e+07</td>\n      <td>7.381539e+06</td>\n      <td>4.195506e+06</td>\n    </tr>\n    <tr>\n      <th>3</th>\n      <td>2023-07-19 18:00:00</td>\n      <td>300000</td>\n      <td>0.541435</td>\n      <td>2.902537e+07</td>\n      <td>7.381539e+06</td>\n      <td>4.195506e+06</td>\n    </tr>\n    <tr>\n      <th>4</th>\n      <td>2023-07-19 18:00:00</td>\n      <td>400000</td>\n      <td>0.512690</td>\n      <td>2.902537e+07</td>\n      <td>7.381539e+06</td>\n      <td>4.195506e+06</td>\n    </tr>\n    <tr>\n      <th>...</th>\n      <td>...</td>\n      <td>...</td>\n      <td>...</td>\n      <td>...</td>\n      <td>...</td>\n      <td>...</td>\n    </tr>\n    <tr>\n      <th>535</th>\n      <td>2023-07-24 12:00:00</td>\n      <td>50000</td>\n      <td>0.102418</td>\n      <td>2.615057e+07</td>\n      <td>7.094977e+06</td>\n      <td>4.186347e+06</td>\n    </tr>\n    <tr>\n      <th>536</th>\n      <td>2023-07-24 12:00:00</td>\n      <td>200000</td>\n      <td>0.269454</td>\n      <td>2.615057e+07</td>\n      <td>7.094977e+06</td>\n      <td>4.186347e+06</td>\n    </tr>\n    <tr>\n      <th>537</th>\n      <td>2023-07-24 12:00:00</td>\n      <td>300000</td>\n      <td>0.434720</td>\n      <td>2.615057e+07</td>\n      <td>7.094977e+06</td>\n      <td>4.186347e+06</td>\n    </tr>\n    <tr>\n      <th>538</th>\n      <td>2023-07-24 12:00:00</td>\n      <td>400000</td>\n      <td>0.503361</td>\n      <td>2.615057e+07</td>\n      <td>7.094977e+06</td>\n      <td>4.186347e+06</td>\n    </tr>\n    <tr>\n      <th>539</th>\n      <td>2023-07-24 12:00:00</td>\n      <td>500000</td>\n      <td>0.633936</td>\n      <td>2.615057e+07</td>\n      <td>7.094977e+06</td>\n      <td>4.186347e+06</td>\n    </tr>\n  </tbody>\n</table>\n<p>540 rows × 6 columns</p>\n</div>"
     },
     "metadata": {}
    }
   ]
  },
  {
   "cell_type": "code",
   "source": [
    "# X_poly = sm.add_constant(df_merged[['Position Size','tvl usd value_x','tvl usd value_y', 'tvl usd value']])\n",
    "# mod_poly = sm.OLS(df_merged['PI'], X_poly)\n",
    "# reg_poly = mod_poly.fit()\n",
    "# reg_poly.summary()"
   ],
   "metadata": {
    "execution": {
     "iopub.status.busy": "2023-07-25T07:26:04.317763Z",
     "iopub.execute_input": "2023-07-25T07:26:04.318048Z",
     "iopub.status.idle": "2023-07-25T07:26:04.357019Z",
     "shell.execute_reply.started": "2023-07-25T07:26:04.318023Z",
     "shell.execute_reply": "2023-07-25T07:26:04.356191Z"
    },
    "trusted": true
   },
   "execution_count": 33,
   "outputs": [
    {
     "execution_count": 33,
     "output_type": "execute_result",
     "data": {
      "text/plain": "<class 'statsmodels.iolib.summary.Summary'>\n\"\"\"\n                            OLS Regression Results                            \n==============================================================================\nDep. Variable:                     PI   R-squared:                       0.743\nModel:                            OLS   Adj. R-squared:                  0.741\nMethod:                 Least Squares   F-statistic:                     386.3\nDate:                Tue, 25 Jul 2023   Prob (F-statistic):          3.41e-156\nTime:                        07:26:04   Log-Likelihood:                 327.39\nNo. Observations:                 540   AIC:                            -644.8\nDf Residuals:                     535   BIC:                            -623.3\nDf Model:                           4                                         \nCovariance Type:            nonrobust                                         \n===================================================================================\n                      coef    std err          t      P>|t|      [0.025      0.975]\n-----------------------------------------------------------------------------------\nconst               3.2970      1.251      2.636      0.009       0.840       5.754\nPosition Size    1.251e-06   3.19e-08     39.169      0.000    1.19e-06    1.31e-06\ntvl usd value_x -3.027e-09   9.61e-09     -0.315      0.753   -2.19e-08    1.59e-08\ntvl usd value_y  8.843e-10   2.31e-08      0.038      0.970   -4.46e-08    4.63e-08\ntvl usd value   -7.492e-07   3.32e-07     -2.260      0.024    -1.4e-06   -9.79e-08\n==============================================================================\nOmnibus:                      636.856   Durbin-Watson:                   1.751\nProb(Omnibus):                  0.000   Jarque-Bera (JB):           165181.108\nSkew:                           5.096   Prob(JB):                         0.00\nKurtosis:                      88.074   Cond. No.                     6.66e+09\n==============================================================================\n\nNotes:\n[1] Standard Errors assume that the covariance matrix of the errors is correctly specified.\n[2] The condition number is large, 6.66e+09. This might indicate that there are\nstrong multicollinearity or other numerical problems.\n\"\"\"",
      "text/html": "<table class=\"simpletable\">\n<caption>OLS Regression Results</caption>\n<tr>\n  <th>Dep. Variable:</th>           <td>PI</td>        <th>  R-squared:         </th> <td>   0.743</td> \n</tr>\n<tr>\n  <th>Model:</th>                   <td>OLS</td>       <th>  Adj. R-squared:    </th> <td>   0.741</td> \n</tr>\n<tr>\n  <th>Method:</th>             <td>Least Squares</td>  <th>  F-statistic:       </th> <td>   386.3</td> \n</tr>\n<tr>\n  <th>Date:</th>             <td>Tue, 25 Jul 2023</td> <th>  Prob (F-statistic):</th> <td>3.41e-156</td>\n</tr>\n<tr>\n  <th>Time:</th>                 <td>07:26:04</td>     <th>  Log-Likelihood:    </th> <td>  327.39</td> \n</tr>\n<tr>\n  <th>No. Observations:</th>      <td>   540</td>      <th>  AIC:               </th> <td>  -644.8</td> \n</tr>\n<tr>\n  <th>Df Residuals:</th>          <td>   535</td>      <th>  BIC:               </th> <td>  -623.3</td> \n</tr>\n<tr>\n  <th>Df Model:</th>              <td>     4</td>      <th>                     </th>     <td> </td>    \n</tr>\n<tr>\n  <th>Covariance Type:</th>      <td>nonrobust</td>    <th>                     </th>     <td> </td>    \n</tr>\n</table>\n<table class=\"simpletable\">\n<tr>\n         <td></td>            <th>coef</th>     <th>std err</th>      <th>t</th>      <th>P>|t|</th>  <th>[0.025</th>    <th>0.975]</th>  \n</tr>\n<tr>\n  <th>const</th>           <td>    3.2970</td> <td>    1.251</td> <td>    2.636</td> <td> 0.009</td> <td>    0.840</td> <td>    5.754</td>\n</tr>\n<tr>\n  <th>Position Size</th>   <td> 1.251e-06</td> <td> 3.19e-08</td> <td>   39.169</td> <td> 0.000</td> <td> 1.19e-06</td> <td> 1.31e-06</td>\n</tr>\n<tr>\n  <th>tvl usd value_x</th> <td>-3.027e-09</td> <td> 9.61e-09</td> <td>   -0.315</td> <td> 0.753</td> <td>-2.19e-08</td> <td> 1.59e-08</td>\n</tr>\n<tr>\n  <th>tvl usd value_y</th> <td> 8.843e-10</td> <td> 2.31e-08</td> <td>    0.038</td> <td> 0.970</td> <td>-4.46e-08</td> <td> 4.63e-08</td>\n</tr>\n<tr>\n  <th>tvl usd value</th>   <td>-7.492e-07</td> <td> 3.32e-07</td> <td>   -2.260</td> <td> 0.024</td> <td> -1.4e-06</td> <td>-9.79e-08</td>\n</tr>\n</table>\n<table class=\"simpletable\">\n<tr>\n  <th>Omnibus:</th>       <td>636.856</td> <th>  Durbin-Watson:     </th>  <td>   1.751</td> \n</tr>\n<tr>\n  <th>Prob(Omnibus):</th> <td> 0.000</td>  <th>  Jarque-Bera (JB):  </th> <td>165181.108</td>\n</tr>\n<tr>\n  <th>Skew:</th>          <td> 5.096</td>  <th>  Prob(JB):          </th>  <td>    0.00</td> \n</tr>\n<tr>\n  <th>Kurtosis:</th>      <td>88.074</td>  <th>  Cond. No.          </th>  <td>6.66e+09</td> \n</tr>\n</table><br/><br/>Notes:<br/>[1] Standard Errors assume that the covariance matrix of the errors is correctly specified.<br/>[2] The condition number is large, 6.66e+09. This might indicate that there are<br/>strong multicollinearity or other numerical problems.",
      "text/latex": "\\begin{center}\n\\begin{tabular}{lclc}\n\\toprule\n\\textbf{Dep. Variable:}    &        PI        & \\textbf{  R-squared:         } &     0.743   \\\\\n\\textbf{Model:}            &       OLS        & \\textbf{  Adj. R-squared:    } &     0.741   \\\\\n\\textbf{Method:}           &  Least Squares   & \\textbf{  F-statistic:       } &     386.3   \\\\\n\\textbf{Date:}             & Tue, 25 Jul 2023 & \\textbf{  Prob (F-statistic):} & 3.41e-156   \\\\\n\\textbf{Time:}             &     07:26:04     & \\textbf{  Log-Likelihood:    } &    327.39   \\\\\n\\textbf{No. Observations:} &         540      & \\textbf{  AIC:               } &    -644.8   \\\\\n\\textbf{Df Residuals:}     &         535      & \\textbf{  BIC:               } &    -623.3   \\\\\n\\textbf{Df Model:}         &           4      & \\textbf{                     } &             \\\\\n\\textbf{Covariance Type:}  &    nonrobust     & \\textbf{                     } &             \\\\\n\\bottomrule\n\\end{tabular}\n\\begin{tabular}{lcccccc}\n                          & \\textbf{coef} & \\textbf{std err} & \\textbf{t} & \\textbf{P$> |$t$|$} & \\textbf{[0.025} & \\textbf{0.975]}  \\\\\n\\midrule\n\\textbf{const}            &       3.2970  &        1.251     &     2.636  &         0.009        &        0.840    &        5.754     \\\\\n\\textbf{Position Size}    &    1.251e-06  &     3.19e-08     &    39.169  &         0.000        &     1.19e-06    &     1.31e-06     \\\\\n\\textbf{tvl usd value\\_x} &   -3.027e-09  &     9.61e-09     &    -0.315  &         0.753        &    -2.19e-08    &     1.59e-08     \\\\\n\\textbf{tvl usd value\\_y} &    8.843e-10  &     2.31e-08     &     0.038  &         0.970        &    -4.46e-08    &     4.63e-08     \\\\\n\\textbf{tvl usd value}    &   -7.492e-07  &     3.32e-07     &    -2.260  &         0.024        &     -1.4e-06    &    -9.79e-08     \\\\\n\\bottomrule\n\\end{tabular}\n\\begin{tabular}{lclc}\n\\textbf{Omnibus:}       & 636.856 & \\textbf{  Durbin-Watson:     } &     1.751   \\\\\n\\textbf{Prob(Omnibus):} &   0.000 & \\textbf{  Jarque-Bera (JB):  } & 165181.108  \\\\\n\\textbf{Skew:}          &   5.096 & \\textbf{  Prob(JB):          } &      0.00   \\\\\n\\textbf{Kurtosis:}      &  88.074 & \\textbf{  Cond. No.          } &  6.66e+09   \\\\\n\\bottomrule\n\\end{tabular}\n%\\caption{OLS Regression Results}\n\\end{center}\n\nNotes: \\newline\n [1] Standard Errors assume that the covariance matrix of the errors is correctly specified. \\newline\n [2] The condition number is large, 6.66e+09. This might indicate that there are \\newline\n strong multicollinearity or other numerical problems."
     },
     "metadata": {}
    }
   ]
  },
  {
   "cell_type": "code",
   "source": [
    "X_poly = sm.add_constant(df_merged[['Position Size','tvl usd value_x','tvl usd value_y']])\n",
    "mod_poly = sm.OLS(df_merged['PI'], X_poly)\n",
    "reg_poly = mod_poly.fit()\n",
    "reg_poly.summary()"
   ],
   "metadata": {
    "execution": {
     "iopub.status.busy": "2023-07-25T07:26:04.358388Z",
     "iopub.execute_input": "2023-07-25T07:26:04.358759Z",
     "iopub.status.idle": "2023-07-25T07:26:04.393740Z",
     "shell.execute_reply.started": "2023-07-25T07:26:04.358731Z",
     "shell.execute_reply": "2023-07-25T07:26:04.392801Z"
    },
    "trusted": true
   },
   "execution_count": 34,
   "outputs": [
    {
     "execution_count": 34,
     "output_type": "execute_result",
     "data": {
      "text/plain": "<class 'statsmodels.iolib.summary.Summary'>\n\"\"\"\n                            OLS Regression Results                            \n==============================================================================\nDep. Variable:                     PI   R-squared:                       0.740\nModel:                            OLS   Adj. R-squared:                  0.739\nMethod:                 Least Squares   F-statistic:                     509.5\nDate:                Tue, 25 Jul 2023   Prob (F-statistic):          1.76e-156\nTime:                        07:26:04   Log-Likelihood:                 324.83\nNo. Observations:                 540   AIC:                            -641.7\nDf Residuals:                     536   BIC:                            -624.5\nDf Model:                           3                                         \nCovariance Type:            nonrobust                                         \n===================================================================================\n                      coef    std err          t      P>|t|      [0.025      0.975]\n-----------------------------------------------------------------------------------\nconst               0.5105      0.209      2.442      0.015       0.100       0.921\nPosition Size    1.251e-06    3.2e-08     39.020      0.000    1.19e-06    1.31e-06\ntvl usd value_x -1.669e-08    7.5e-09     -2.224      0.027   -3.14e-08   -1.95e-09\ntvl usd value_y  1.275e-09   2.32e-08      0.055      0.956   -4.43e-08    4.69e-08\n==============================================================================\nOmnibus:                      627.613   Durbin-Watson:                   1.733\nProb(Omnibus):                  0.000   Jarque-Bera (JB):           155526.319\nSkew:                           4.974   Prob(JB):                         0.00\nKurtosis:                      85.543   Cond. No.                     1.10e+09\n==============================================================================\n\nNotes:\n[1] Standard Errors assume that the covariance matrix of the errors is correctly specified.\n[2] The condition number is large, 1.1e+09. This might indicate that there are\nstrong multicollinearity or other numerical problems.\n\"\"\"",
      "text/html": "<table class=\"simpletable\">\n<caption>OLS Regression Results</caption>\n<tr>\n  <th>Dep. Variable:</th>           <td>PI</td>        <th>  R-squared:         </th> <td>   0.740</td> \n</tr>\n<tr>\n  <th>Model:</th>                   <td>OLS</td>       <th>  Adj. R-squared:    </th> <td>   0.739</td> \n</tr>\n<tr>\n  <th>Method:</th>             <td>Least Squares</td>  <th>  F-statistic:       </th> <td>   509.5</td> \n</tr>\n<tr>\n  <th>Date:</th>             <td>Tue, 25 Jul 2023</td> <th>  Prob (F-statistic):</th> <td>1.76e-156</td>\n</tr>\n<tr>\n  <th>Time:</th>                 <td>07:26:04</td>     <th>  Log-Likelihood:    </th> <td>  324.83</td> \n</tr>\n<tr>\n  <th>No. Observations:</th>      <td>   540</td>      <th>  AIC:               </th> <td>  -641.7</td> \n</tr>\n<tr>\n  <th>Df Residuals:</th>          <td>   536</td>      <th>  BIC:               </th> <td>  -624.5</td> \n</tr>\n<tr>\n  <th>Df Model:</th>              <td>     3</td>      <th>                     </th>     <td> </td>    \n</tr>\n<tr>\n  <th>Covariance Type:</th>      <td>nonrobust</td>    <th>                     </th>     <td> </td>    \n</tr>\n</table>\n<table class=\"simpletable\">\n<tr>\n         <td></td>            <th>coef</th>     <th>std err</th>      <th>t</th>      <th>P>|t|</th>  <th>[0.025</th>    <th>0.975]</th>  \n</tr>\n<tr>\n  <th>const</th>           <td>    0.5105</td> <td>    0.209</td> <td>    2.442</td> <td> 0.015</td> <td>    0.100</td> <td>    0.921</td>\n</tr>\n<tr>\n  <th>Position Size</th>   <td> 1.251e-06</td> <td>  3.2e-08</td> <td>   39.020</td> <td> 0.000</td> <td> 1.19e-06</td> <td> 1.31e-06</td>\n</tr>\n<tr>\n  <th>tvl usd value_x</th> <td>-1.669e-08</td> <td>  7.5e-09</td> <td>   -2.224</td> <td> 0.027</td> <td>-3.14e-08</td> <td>-1.95e-09</td>\n</tr>\n<tr>\n  <th>tvl usd value_y</th> <td> 1.275e-09</td> <td> 2.32e-08</td> <td>    0.055</td> <td> 0.956</td> <td>-4.43e-08</td> <td> 4.69e-08</td>\n</tr>\n</table>\n<table class=\"simpletable\">\n<tr>\n  <th>Omnibus:</th>       <td>627.613</td> <th>  Durbin-Watson:     </th>  <td>   1.733</td> \n</tr>\n<tr>\n  <th>Prob(Omnibus):</th> <td> 0.000</td>  <th>  Jarque-Bera (JB):  </th> <td>155526.319</td>\n</tr>\n<tr>\n  <th>Skew:</th>          <td> 4.974</td>  <th>  Prob(JB):          </th>  <td>    0.00</td> \n</tr>\n<tr>\n  <th>Kurtosis:</th>      <td>85.543</td>  <th>  Cond. No.          </th>  <td>1.10e+09</td> \n</tr>\n</table><br/><br/>Notes:<br/>[1] Standard Errors assume that the covariance matrix of the errors is correctly specified.<br/>[2] The condition number is large, 1.1e+09. This might indicate that there are<br/>strong multicollinearity or other numerical problems.",
      "text/latex": "\\begin{center}\n\\begin{tabular}{lclc}\n\\toprule\n\\textbf{Dep. Variable:}    &        PI        & \\textbf{  R-squared:         } &     0.740   \\\\\n\\textbf{Model:}            &       OLS        & \\textbf{  Adj. R-squared:    } &     0.739   \\\\\n\\textbf{Method:}           &  Least Squares   & \\textbf{  F-statistic:       } &     509.5   \\\\\n\\textbf{Date:}             & Tue, 25 Jul 2023 & \\textbf{  Prob (F-statistic):} & 1.76e-156   \\\\\n\\textbf{Time:}             &     07:26:04     & \\textbf{  Log-Likelihood:    } &    324.83   \\\\\n\\textbf{No. Observations:} &         540      & \\textbf{  AIC:               } &    -641.7   \\\\\n\\textbf{Df Residuals:}     &         536      & \\textbf{  BIC:               } &    -624.5   \\\\\n\\textbf{Df Model:}         &           3      & \\textbf{                     } &             \\\\\n\\textbf{Covariance Type:}  &    nonrobust     & \\textbf{                     } &             \\\\\n\\bottomrule\n\\end{tabular}\n\\begin{tabular}{lcccccc}\n                          & \\textbf{coef} & \\textbf{std err} & \\textbf{t} & \\textbf{P$> |$t$|$} & \\textbf{[0.025} & \\textbf{0.975]}  \\\\\n\\midrule\n\\textbf{const}            &       0.5105  &        0.209     &     2.442  &         0.015        &        0.100    &        0.921     \\\\\n\\textbf{Position Size}    &    1.251e-06  &      3.2e-08     &    39.020  &         0.000        &     1.19e-06    &     1.31e-06     \\\\\n\\textbf{tvl usd value\\_x} &   -1.669e-08  &      7.5e-09     &    -2.224  &         0.027        &    -3.14e-08    &    -1.95e-09     \\\\\n\\textbf{tvl usd value\\_y} &    1.275e-09  &     2.32e-08     &     0.055  &         0.956        &    -4.43e-08    &     4.69e-08     \\\\\n\\bottomrule\n\\end{tabular}\n\\begin{tabular}{lclc}\n\\textbf{Omnibus:}       & 627.613 & \\textbf{  Durbin-Watson:     } &     1.733   \\\\\n\\textbf{Prob(Omnibus):} &   0.000 & \\textbf{  Jarque-Bera (JB):  } & 155526.319  \\\\\n\\textbf{Skew:}          &   4.974 & \\textbf{  Prob(JB):          } &      0.00   \\\\\n\\textbf{Kurtosis:}      &  85.543 & \\textbf{  Cond. No.          } &  1.10e+09   \\\\\n\\bottomrule\n\\end{tabular}\n%\\caption{OLS Regression Results}\n\\end{center}\n\nNotes: \\newline\n [1] Standard Errors assume that the covariance matrix of the errors is correctly specified. \\newline\n [2] The condition number is large, 1.1e+09. This might indicate that there are \\newline\n strong multicollinearity or other numerical problems."
     },
     "metadata": {}
    }
   ]
  },
  {
   "cell_type": "code",
   "source": [
    "predictions = reg_poly.predict(X_poly)"
   ],
   "metadata": {
    "execution": {
     "iopub.status.busy": "2023-07-25T07:26:04.395256Z",
     "iopub.execute_input": "2023-07-25T07:26:04.395564Z",
     "iopub.status.idle": "2023-07-25T07:26:04.399844Z",
     "shell.execute_reply.started": "2023-07-25T07:26:04.395538Z",
     "shell.execute_reply": "2023-07-25T07:26:04.398843Z"
    },
    "trusted": true
   },
   "execution_count": 35,
   "outputs": []
  },
  {
   "cell_type": "code",
   "source": [
    "# plot poly predictions\n",
    "fig = go.Figure()\n",
    "trace1 = go.Scatter(y=df_merged['PI'], mode='lines', name='PI')\n",
    "trace2 = go.Scatter(y=predictions, mode='lines', name='predictions')\n",
    "fig = go.Figure(data=[trace1, trace2])\n",
    "fig.show()"
   ],
   "metadata": {
    "execution": {
     "iopub.status.busy": "2023-07-25T07:26:04.401081Z",
     "iopub.execute_input": "2023-07-25T07:26:04.401344Z",
     "iopub.status.idle": "2023-07-25T07:26:04.565439Z",
     "shell.execute_reply.started": "2023-07-25T07:26:04.401321Z",
     "shell.execute_reply": "2023-07-25T07:26:04.564238Z"
    },
    "trusted": true
   },
   "execution_count": 36,
   "outputs": [
    {
     "output_type": "display_data",
     "data": {
      "text/html": "<div>                            <div id=\"286c698e-5395-4f39-93df-f1d55693ea59\" class=\"plotly-graph-div\" style=\"height:525px; width:100%;\"></div>            <script type=\"text/javascript\">                require([\"plotly\"], function(Plotly) {                    window.PLOTLYENV=window.PLOTLYENV || {};                                    if (document.getElementById(\"286c698e-5395-4f39-93df-f1d55693ea59\")) {                    Plotly.newPlot(                        \"286c698e-5395-4f39-93df-f1d55693ea59\",                        [{\"mode\":\"lines\",\"name\":\"PI\",\"y\":[0.000033338349999999996,0.19084192059904126,0.39702133142451146,0.5414354717425311,0.5126904404593802,0.8268235493924436,0.00003328451,0.07055119943944274,0.423271472577639,0.5644018254217897,0.6257838579008421,0.8440850099749326,0.00003328881,0.2036350319167752,0.3612831775807024,0.4851637780442246,0.6086397799704031,0.742897658786049,0.00003337335,0.16387242040666194,0.2891231057243999,0.40524233158625833,0.5656269149092807,0.6523195605462249,0.000033352525000000005,0.16339732144736271,0.3638036615591531,0.44617363330655024,0.556901216472447,0.7126884174219796,0.000033392789999999996,0.17421843389699626,0.30266629526467165,0.4197355565974092,0.502715403673136,0.6512200113451172,0.00003336795,0.06432695469056429,0.19591232585993618,0.43561453243088266,0.5252394585021847,0.5483393314893164,0.000033212635000000004,0.18181960770919406,0.35444481214601353,0.46751493109322695,0.7339667256701503,0.687232408236504,0.000033171155,0.054172594215629,0.34473587346776213,0.5063092715385693,0.5240793988719759,0.6876228601325849,0.00003310924,0.1421970356155242,0.3444780090836445,0.4938631084060745,0.5470976123724398,0.6893396051047489,0.000033111595,-0.044200426105526,0.23721936603169524,0.3561105693925199,0.573875575122571,0.5792845800842201,0.00003297944,0.0998067737515882,0.3632878807515283,0.44996165081858663,0.5260303299564271,0.6993004356148091,0.000032987625,0.19153712280735385,0.27733570130418883,0.3789648112463979,0.3499910287766639,0.5936434825688508,0.000033039425,0.07467128773302531,0.29940453383118637,0.37638427881855563,0.4584622873489792,0.571369069738175,0.000033111990000000003,0.046341176981130154,0.1320660525389243,0.2090907268564308,0.3511762149387039,0.4262135713485833,0.00003313751,-0.0315458119830012,0.9983511585004125,0.7193820575202211,0.24742026379283283,1.0870902244991285,0.00003358157,0.11184748921331075,0.4749431295071531,0.18886216219387822,0.7677030817715575,0.5761685253261533,0.00003358418,-0.0690980808373069,0.3019681762583843,0.4147680145928802,0.5454059049711617,0.6721098760650932,0.00003367257,0.0295601340072977,0.1936010402595798,0.290378431455693,0.2836519609398067,0.5591353654270819,0.000033651134999999996,0.10001357567702479,0.24334041371503895,0.20837212546418726,0.49011373417958737,0.4808171172866267,0.000033686745,0.05185779049095625,0.22094655294954885,0.38672914323676366,0.4714014042837462,0.7096972754549569,0.000033641615,0.24614630405996957,0.4205255304164126,0.4481224298160029,0.6748017754835018,0.7126795095056693,0.000033658965,0.0007304178260483449,0.23042165051418806,0.41174127234027225,0.49157085805440914,0.6284764872406257,0.000033467235,0.1178669243382728,0.3061875630304627,0.3480493705096066,0.5316997066760365,0.6172440357810274,0.00003346837,0.1276065502340486,0.3296890843176072,0.5613074071085578,0.5505949290672305,0.7903397974103399,0.000033504120000000005,0.0720299607223253,0.268308960099489,0.4614016771200298,0.4907716588465192,0.7127479798741803,0.000033537075,0.1343152786890158,0.2964594326853103,0.4795884552417462,0.5151201027725705,0.7137378254288151,0.000033606174999999995,0.06783611886075386,0.22993797925816745,0.31171310474358904,0.4722672352324366,0.5500188291106625,0.0000335794,0.123926471408005,0.2617599359781906,0.3627818033541814,0.4873528571295651,0.5999208724112322,0.00003359142,0.12915112552364144,0.30891947865341507,0.34964897160080705,0.5551850142010153,0.5806588997260036,0.000033583175,0.13070281181860105,0.29665812827467164,0.4226637357551297,0.5207909993151034,0.6520743827378581,0.00003356974,0.1250597454318267,0.3130217631647838,0.49527838633594,0.536226702687074,0.7263917706387844,0.00003350077,0.22182647630921787,0.2930859042392271,0.49546569677789876,0.5162494801230508,0.7172643296752383,0.000033574095,-0.0015890983183197496,0.209460119087673,0.300626564770333,0.4340610702894736,0.5383632427227383,0.000033524,0.2511763690240371,0.2640396794656681,0.371843875321062,0.4987201876424763,0.6196164147828114,0.00003351055,0.12655435818270175,0.3432646105365222,0.4183273901444693,0.5633574667611967,0.6323272974396303,0.00003354432,0.077674985291658,0.17778613105559055,0.3686450701897712,0.3904214185343662,0.5894539277461988,0.000033421715,0.24993897859899755,0.3017883742530145,0.182990451558382,0.5203020484952177,0.42050934392162986,0.000033396285,-0.07667565165508704,0.4181438180124601,0.5302801395084842,0.6334991315214822,0.8166294516289909,0.000033504365,0.10446340285609065,0.2748178389653759,0.46217994518296024,0.48648716534792413,0.629429423697843,0.000033492654999999996,0.12640448299028145,0.29115575322738607,0.3643841874924547,0.4864924163849409,0.5826143807809103,0.00003342467,0.1286182795219161,0.3012115813171192,0.4536431090485848,0.4994904195189491,0.6715629687347473,0.00003344394,0.0710404028890678,0.3118185379967144,0.3962526158204156,0.5036337989926096,0.6142981107244054,0.0000334536,0.14302002535685426,0.3224913155818569,0.41974130707113483,0.5268521906418329,0.5717719912883581,0.000033495515000000006,0.058995120959472944,0.2666525596047933,0.35843001113371287,0.4652130034870296,0.553398246853007,0.000033500615000000003,0.07847354828155059,0.23882907013655338,0.25805847365003837,0.45807572613153263,0.5700779082771916,0.000033408935,0.2110184808289048,0.3678054170418008,0.43805709260421105,0.5978176373383448,0.692004924354471,0.000033412949999999997,0.09238701106978195,0.32827761514234055,0.43812183226007306,0.5624348787115778,0.662605464790353,0.00003347387,0.0242959137842149,0.2996144633904194,0.33482778607879027,0.5057154600624827,0.6218156982192014,0.000033477390000000005,0.1328682447579865,0.3144784441883388,0.3990846973819941,0.5194979371422903,0.5907575072060354,0.00003347476,0.1407138550793689,0.3223097871243539,0.4119940471441481,0.5163773461575261,0.6230605018810422,0.00003350484,0.05424987556762055,0.22791531083458236,0.3980649015927824,0.45696432961126726,0.5700013617974591,0.000033504525,0.11289296243391075,0.2804050296824414,0.3673659895955268,0.4819854135436543,0.5682799169887716,0.000033497585,0.08958643328980995,0.2755999123427699,0.3570919888518844,0.49032026837036113,0.5714725524892259,0.000033509775,0.02223990520075595,0.2163833125439964,0.27738320275626904,0.46127104240645167,0.5829941279524249,0.00003348487,0.11771568886737065,0.28833696468381476,0.3919978549992109,0.5304705852954612,0.6517212340183107,0.00003352828,0.13549148797400076,0.2569679503723918,0.465385845014211,0.45579725647575486,0.5730502554403003,0.00003355513,0.0734251254609006,0.2383386197592614,0.2542535138752413,0.4486728741022574,0.574882542901392,0.000033536025,0.10021660520492046,0.26412945400210924,0.33133955905675805,0.4577238274669071,0.5757907342054409,0.000033534985,0.08157243656457774,0.2447651802848085,0.37011745307766114,0.46647563854276086,0.5819949516999685,0.00003354504,0.0599710961089385,0.2234044240059916,0.3556353483163406,0.4556723335277866,0.5673810253984897,0.00003349945,0.1450412617300429,0.4025585076231124,0.5592384961491064,0.6105814001209637,0.7276779490507437,0.00003351952,0.1103914680054174,0.36247367880583425,0.48039946972589576,0.6533334995754032,0.7837199087808955,0.00003346609,0.09939670623494125,0.34736339037637975,0.49907569414013153,0.6103936445878304,0.7379640037531132,0.000033434175,0.110653645860836,0.34190369449670044,0.4947738880661845,0.6538504044556888,0.7658908058046592,0.00003345507,0.15020528509552375,0.3624109496674492,0.45775538158650164,0.5934101921311168,0.7013729179025603,0.00003346487,0.0853581580169731,0.2966119536898617,0.3328018761248614,0.5247953485528569,0.64022173295605,0.00003343172,0.1670160660915982,0.36262350728768666,0.4633705821519243,0.5901033509268387,0.6722175096524126,0.000033459550000000004,0.07765251809887269,0.27501092226201246,0.42982306315454366,0.503664933253674,0.6553785126203167,0.000033458035,0.10955000433038714,0.31843289030849314,0.44772213140579,0.5533037034561517,0.6915536392507704,0.00003345912,0.1498352208405222,0.34408775871492736,0.45960322302055084,0.568413956069385,0.6824609944327946,0.00003348808,0.0906562951182081,0.2759301958669908,0.3926242818109244,0.4851203582983601,0.6188357839827745,0.00003349045,0.105286837416493,0.308680245311173,0.39934044014954395,0.5297621904844831,0.6213234375878898,0.000033491505,0.08243410520822181,0.28017258162849856,0.38104881408287383,0.5178202405117887,0.6257460489408331,0.000033457019999999996,0.15081792567895036,0.35528663620672063,0.36533403731954905,0.581100180247951,0.6898995551481093,0.00003340351,0.088811713179993,0.31580023219532194,0.4394245346910495,0.6213545048277567,0.7592766428635755,0.00003318208,-0.2857905423492468,0.0242676028087061,0.5637181320338271,0.5802014535626654,0.699411662280923,0.00003321302,-0.13087549418821703,0.14805170727093037,0.17047394946435185,0.6385383689096074,0.6673910913436671,0.00003321917,0.1602411582020764,0.29267879240018857,0.47031428336123327,0.6529870126323019,0.6586638691862206,0.00003333698,-0.1316138146519705,-0.1143632430626127,0.3632798778138664,0.1824729534989302,0.8858762487524103,0.00003360285,0.2693147128351114,0.4215780940362634,0.3691967838374097,0.7138842606347282,0.6519743067775892,0.00003369819,-0.08828143341169435,0.13554824667532725,0.36249990649243813,0.45070559805363786,0.7281739751160146,0.000033584985000000004,0.11794249147632024,0.3821425771795503,0.4537814743303059,0.7120583383286743,0.7169346718604857,0.00003359315,0.12608968089886471,0.3464117616100708,0.4992397426095323,0.6164113830566151,0.7635519476103028,0.000033624905000000004,-0.018955647407885606,0.23961291225393205,0.4137966277791989,0.535611546212678,0.7182253721772724,0.00003355671,0.1408656333555313,0.39954900575929736,0.43966270793308126,0.665563894854337,0.7211291107676132,0.00003361568,2.0180235387500147,0.3868500583471075,0.4554176408979913,0.5359113002141669,0.6783558548615218,0.000034144649999999995,0.27915168934478624,-0.38531983905418343,0.6092219870668316,-0.17357995475980215,-0.011088027034254822,0.00003411711,0.1627473362879357,0.4901244430609921,0.5659598355136524,0.7619623192186822,0.9421101112258583,0.000034199675,0.10241761048239086,0.2694537921578117,0.4347200149682351,0.5033611160433367,0.6339356563346925],\"type\":\"scatter\"},{\"mode\":\"lines\",\"name\":\"predictions\",\"y\":[0.036783344147195786,0.09806116257638024,0.28564632103306736,0.41070309333752547,0.5357598656419835,0.6608166379464416,0.03972593125374554,0.10100374968293,0.2885889081396171,0.4136456804440752,0.5387024527485333,0.6637592250529915,0.028103621449334815,0.08938143987851928,0.2769665983352064,0.40202337063966453,0.5270801429441225,0.6521369152485806,0.023254853806130182,0.08453267223531465,0.27211783069200174,0.39717460299645985,0.5222313753009179,0.647288147605376,0.03996088553526645,0.10123870396445092,0.288823862421138,0.4138806347255961,0.5389374070300542,0.6639941793345123,0.03722361963141185,0.09850143806059632,0.2860865965172834,0.4111433688217415,0.5362001411261996,0.6612569134306577,0.03178995115514058,0.09306776958432504,0.28065292804101216,0.40570970034547027,0.5307664726499284,0.6558232449543865,0.033963213274258976,0.09524103170344343,0.28282619016013055,0.40788296246458866,0.5329397347690468,0.6579965070735049,0.03307753826466078,0.09435535669384525,0.28194051515053237,0.4069972874549905,0.5320540597594485,0.6571108320639065,0.021574733810061166,0.08285255223924563,0.27043771069593275,0.39549448300039086,0.5205512553048489,0.645608027609307,0.02392559067380065,0.08520340910298511,0.27278856755967223,0.39784533986413034,0.5229021121685884,0.6479588844730465,0.009235673990376218,0.07051349241956067,0.25809865087624784,0.38315542318070595,0.5082121954851639,0.633268967789622,0.006284034975481545,0.06756185340466601,0.2551470118613531,0.3802037841658112,0.5052605564702692,0.6303173287747273,-0.002240778898277368,0.059037039530907096,0.24662219798759422,0.3716789702920523,0.4967357425965103,0.6217925149009684,-0.0028886707582962013,0.058389147670888264,0.2459743061275754,0.37103107843203353,0.49608785073649153,0.6211446230409496,-0.003521998708239618,0.057755819720944845,0.24534097817763198,0.3703977504820901,0.4954545227865481,0.6205112950910062,0.0011027544715783398,0.0623805729007628,0.24996573135744993,0.37502250366190804,0.5000792759663661,0.6251360482708243,-0.000740636313615534,0.060537182115568924,0.24812234057225604,0.3731791128767142,0.4982358851811722,0.6232926574856302,0.03459339823368737,0.09587121666287184,0.28345637511955896,0.40851314742401706,0.5335699197284751,0.6586266920329332,0.03402998837397609,0.09530780680316055,0.28289296525984764,0.40794973756430575,0.5330065098687639,0.658063282173222,0.03702292143794739,0.09830073986713185,0.28588589832381894,0.41094267062827705,0.5359994429327352,0.6610562152371933,0.035739561737389444,0.09701738016657391,0.284602538623261,0.4096593109277191,0.5347160832321772,0.6597728555366353,0.04306060133987225,0.10433841976905671,0.29192357822574383,0.41698035053020194,0.54203712283466,0.6670938951391181,0.03496063728413048,0.09623845571331494,0.28382361417000207,0.4088803864744602,0.5339371587789182,0.6589939310833763,0.02851239805957774,0.0897902164887622,0.2773753749454493,0.4024321472499074,0.5274889195543655,0.6525456918588236,0.019331170007318578,0.08060898843650303,0.26819414689319016,0.39325091919764826,0.5183076915021063,0.6433644638065644,0.022039463725342965,0.08331728215452741,0.27090244061121455,0.39595921291567265,0.5210159852201307,0.6460727575245888,0.026872363348008563,0.08815018177719303,0.27573534023388013,0.40079211253833824,0.5258488848427962,0.6509056571472543,0.02588251884274846,0.08716033727193293,0.27474549572862,0.3998022680330781,0.5248590403375363,0.6499158126419944,0.03105585461864447,0.09233367304782893,0.279918831504516,0.4049756038089741,0.5300323761134322,0.6550891484178903,0.028840398653237814,0.09011821708242228,0.2777033755391094,0.4027601478435675,0.5278169201480255,0.6528736924524836,0.031168066630110278,0.09244588505929474,0.28003104351598185,0.40508781582043996,0.530144588124898,0.6552013604293561,0.028630790400521383,0.08990860882970583,0.27749376728639297,0.4025505395908511,0.5276073118953091,0.6526640841997672,0.029170743984846367,0.09044856241403083,0.2780337208707179,0.40309049317517603,0.5281472654796342,0.6532040377840923,0.021016342148785,0.08229416057796947,0.26987931903465656,0.39493609133911467,0.5199928636435728,0.6450496359480309,0.02675015064841358,0.08802796907759805,0.27561312753428513,0.40066989983874324,0.5257266721432013,0.6507834444476595,0.02635930505461001,0.08763712348379447,0.2752222819404816,0.4002790542449397,0.5253358265493978,0.6503925988538559,0.028220232467532646,0.0894980508967171,0.27708320935340425,0.40213998165786236,0.5271967539623205,0.6522535262667786,0.030294797870122656,0.09157261629930712,0.27915777475599424,0.40421454706045234,0.5292713193649103,0.6543280916693685,0.02114602493308991,0.08242384336227437,0.2700090018189615,0.3950657741234196,0.5201225464278776,0.6451793187323357,0.015190164107473522,0.07646798253665797,0.2640531409933451,0.3891099132978032,0.5141666856022613,0.6392234579067194,0.02279212987062674,0.0840699482998112,0.27165510675649834,0.39671187906095645,0.5217686513654145,0.6468254236698726,0.02646951319041846,0.08774733161960292,0.27533249007629,0.4003892623807481,0.5254460346852061,0.6505028069896642,0.02548668059834148,0.08676449902752595,0.274349657484213,0.39940642978867114,0.5244632020931292,0.6495199743975874,0.025149697019368644,0.0864275154485531,0.27401267390524026,0.39906944620969836,0.5241262185141564,0.6491829908186145,0.02606622131812479,0.08734403974730925,0.27492919820399636,0.39998597050845447,0.5250427428129125,0.6500995151173706,0.026824341217432258,0.08810215964661672,0.2756873181033038,0.40074409040776193,0.52580086271222,0.6508576350166781,0.028747816855560993,0.09002563528474546,0.2776107937414326,0.4026675660458907,0.5277243383503487,0.6527811106548068,0.027751961164480983,0.08902977959366544,0.2766149380503526,0.4016717103548107,0.5267284826592686,0.6517852549637269,0.026629734750712376,0.08790755317989683,0.27549271163658395,0.40054948394104206,0.5256062562455002,0.6506630285499583,0.030858464691861716,0.09213628312104617,0.27972144157773327,0.4047782138821914,0.5298349861866495,0.6548917584911076,0.035260112832586316,0.09653793126177078,0.2841230897184579,0.409179862022916,0.534236634327374,0.6592934066318321,0.03443745628546847,0.09571527471465294,0.28330043317134007,0.4083572054757982,0.5334139777802561,0.6584707500847142,0.03279325460788948,0.09407107303707395,0.28165623149376107,0.4067130037982192,0.5317697761026772,0.6568265484071353,0.03247783001933405,0.0937556484485185,0.28134080690520563,0.40639757920966374,0.5314543515141218,0.6565111238185799,0.03035158073957374,0.0916293991687582,0.27921455762544534,0.40427132992990344,0.5293281022343614,0.6543848745388195,0.027942769718263656,0.08922058814744813,0.27680574660413526,0.40186251890859337,0.5269192912130514,0.6519760635175095,0.0297244121944095,0.09100223062359396,0.27858738908028113,0.40364416138473924,0.5287009336891972,0.6537577059936553,0.03268093395106922,0.09395875238025368,0.2815439108369408,0.4066006831413989,0.531657455445857,0.6567142277503151,0.03577416651965322,0.09705198494883768,0.28463714340552476,0.40969391570998287,0.5347506880144409,0.659807460318899,0.031892807415894786,0.09317062584507924,0.2807557843017664,0.4058125566062245,0.5308693289106825,0.6559261012151406,0.0578243578804023,0.11910217630958675,0.30668733476627386,0.43174410707073196,0.5568008793751901,0.6818576516796482,0.04594556684264672,0.10722338527183119,0.2948085437285183,0.4198653160329764,0.5449220883374344,0.6699788606418925,0.044092943811094416,0.10537076224027889,0.29295592069696597,0.4180126930014241,0.5430694653058822,0.6681262376103403,0.04520976688373324,0.1064875853129177,0.29407274376960485,0.41912951607406296,0.544186288378521,0.6692430606829791,0.0404292258943579,0.10170704432354236,0.2892922027802295,0.4143489750846876,0.5394057473891456,0.6644625196936037,0.039117124409316584,0.10039494283850103,0.2879801012951882,0.4130368735996463,0.5380936459041044,0.6631504182085625,0.0404181574688939,0.10169597589807836,0.2892811343547655,0.4143379066592236,0.5393946789636817,0.6644514512681398,0.04016825301428366,0.10144607144346812,0.2890312299001553,0.4140880022046134,0.5391447745090714,0.6642015468135295,0.03883244614561685,0.10011026457480131,0.28769542303148843,0.41275219533594654,0.5378089676404046,0.6628657399448628,0.04021195238753889,0.10148977081672336,0.28907492927341044,0.41413170157786855,0.5391884738823266,0.6642452461867847,0.04061958086342349,0.10189739929260794,0.2894825577492951,0.4145393300537532,0.5395961023582112,0.6646528746626693,0.039952779899607695,0.10123059832879217,0.28881575678547927,0.4138725290899374,0.5389293013943954,0.6639860736988535,0.041541117047372546,0.102818935476557,0.2904040939332441,0.41546086623770223,0.5405176385421603,0.6655744108466184,0.042616706096041734,0.10389452452522618,0.2914796829819133,0.4165364552863714,0.5415932275908295,0.6666499998952876,0.042623235287623865,0.10390105371680833,0.2914862121734954,0.4165429844779535,0.5415997567824117,0.6666565290868698,0.03293396904838023,0.09421178747756469,0.2817969459342518,0.4068537182387099,0.531910490543168,0.6569672628476261,0.022960381029943147,0.0842381994591276,0.27182335791581475,0.39688013022027285,0.5219369025247309,0.646993674829189,0.015385899161568732,0.07666371759075319,0.26424887604744035,0.38930564835189846,0.5143624206563565,0.6394191929608146,0.028894508824263598,0.09017232725344805,0.2777574857101352,0.4028142580145933,0.5278710303190512,0.6529278026235095,0.035480140770137274,0.09675795919932173,0.28434311765600884,0.40939988996046695,0.5344566622649249,0.659513434569383,0.04479425374710017,0.10607207217628464,0.2936572306329718,0.4187140029374299,0.5437707752418879,0.668827547546346,0.04878632673835159,0.11006414516753606,0.29764930362422315,0.42270607592868126,0.5477628482331394,0.6728196205375975,0.054707829048900786,0.11598564747808525,0.30357080593477237,0.4286275782392305,0.5536843505436886,0.6787411228481467,0.05434232474934766,0.11562014317853211,0.30320530163521925,0.42826207393967736,0.5533188462441354,0.6783756185485935,0.05662323589969817,0.11790105432888263,0.30548621278556976,0.43054298509002786,0.555599757394486,0.6806565296989441,0.05646213985359973,0.11773995828278419,0.3053251167394713,0.43038188904392943,0.5554386613483875,0.6804954336528456,0.05108405703410971,0.11236187546329417,0.29994703391998134,0.42500380622443945,0.5500605785288974,0.6751173508333556,0.05686824512984145,0.1181460635590259,0.305731222015713,0.4307879943201711,0.5558447666246292,0.6809015389290873,0.0843936618727873,0.14567148030197175,0.3332566387586589,0.458313411063117,0.583370183367575,0.7084269556720331],\"type\":\"scatter\"}],                        {\"template\":{\"data\":{\"histogram2dcontour\":[{\"type\":\"histogram2dcontour\",\"colorbar\":{\"outlinewidth\":0,\"ticks\":\"\"},\"colorscale\":[[0.0,\"#0d0887\"],[0.1111111111111111,\"#46039f\"],[0.2222222222222222,\"#7201a8\"],[0.3333333333333333,\"#9c179e\"],[0.4444444444444444,\"#bd3786\"],[0.5555555555555556,\"#d8576b\"],[0.6666666666666666,\"#ed7953\"],[0.7777777777777778,\"#fb9f3a\"],[0.8888888888888888,\"#fdca26\"],[1.0,\"#f0f921\"]]}],\"choropleth\":[{\"type\":\"choropleth\",\"colorbar\":{\"outlinewidth\":0,\"ticks\":\"\"}}],\"histogram2d\":[{\"type\":\"histogram2d\",\"colorbar\":{\"outlinewidth\":0,\"ticks\":\"\"},\"colorscale\":[[0.0,\"#0d0887\"],[0.1111111111111111,\"#46039f\"],[0.2222222222222222,\"#7201a8\"],[0.3333333333333333,\"#9c179e\"],[0.4444444444444444,\"#bd3786\"],[0.5555555555555556,\"#d8576b\"],[0.6666666666666666,\"#ed7953\"],[0.7777777777777778,\"#fb9f3a\"],[0.8888888888888888,\"#fdca26\"],[1.0,\"#f0f921\"]]}],\"heatmap\":[{\"type\":\"heatmap\",\"colorbar\":{\"outlinewidth\":0,\"ticks\":\"\"},\"colorscale\":[[0.0,\"#0d0887\"],[0.1111111111111111,\"#46039f\"],[0.2222222222222222,\"#7201a8\"],[0.3333333333333333,\"#9c179e\"],[0.4444444444444444,\"#bd3786\"],[0.5555555555555556,\"#d8576b\"],[0.6666666666666666,\"#ed7953\"],[0.7777777777777778,\"#fb9f3a\"],[0.8888888888888888,\"#fdca26\"],[1.0,\"#f0f921\"]]}],\"heatmapgl\":[{\"type\":\"heatmapgl\",\"colorbar\":{\"outlinewidth\":0,\"ticks\":\"\"},\"colorscale\":[[0.0,\"#0d0887\"],[0.1111111111111111,\"#46039f\"],[0.2222222222222222,\"#7201a8\"],[0.3333333333333333,\"#9c179e\"],[0.4444444444444444,\"#bd3786\"],[0.5555555555555556,\"#d8576b\"],[0.6666666666666666,\"#ed7953\"],[0.7777777777777778,\"#fb9f3a\"],[0.8888888888888888,\"#fdca26\"],[1.0,\"#f0f921\"]]}],\"contourcarpet\":[{\"type\":\"contourcarpet\",\"colorbar\":{\"outlinewidth\":0,\"ticks\":\"\"}}],\"contour\":[{\"type\":\"contour\",\"colorbar\":{\"outlinewidth\":0,\"ticks\":\"\"},\"colorscale\":[[0.0,\"#0d0887\"],[0.1111111111111111,\"#46039f\"],[0.2222222222222222,\"#7201a8\"],[0.3333333333333333,\"#9c179e\"],[0.4444444444444444,\"#bd3786\"],[0.5555555555555556,\"#d8576b\"],[0.6666666666666666,\"#ed7953\"],[0.7777777777777778,\"#fb9f3a\"],[0.8888888888888888,\"#fdca26\"],[1.0,\"#f0f921\"]]}],\"surface\":[{\"type\":\"surface\",\"colorbar\":{\"outlinewidth\":0,\"ticks\":\"\"},\"colorscale\":[[0.0,\"#0d0887\"],[0.1111111111111111,\"#46039f\"],[0.2222222222222222,\"#7201a8\"],[0.3333333333333333,\"#9c179e\"],[0.4444444444444444,\"#bd3786\"],[0.5555555555555556,\"#d8576b\"],[0.6666666666666666,\"#ed7953\"],[0.7777777777777778,\"#fb9f3a\"],[0.8888888888888888,\"#fdca26\"],[1.0,\"#f0f921\"]]}],\"mesh3d\":[{\"type\":\"mesh3d\",\"colorbar\":{\"outlinewidth\":0,\"ticks\":\"\"}}],\"scatter\":[{\"fillpattern\":{\"fillmode\":\"overlay\",\"size\":10,\"solidity\":0.2},\"type\":\"scatter\"}],\"parcoords\":[{\"type\":\"parcoords\",\"line\":{\"colorbar\":{\"outlinewidth\":0,\"ticks\":\"\"}}}],\"scatterpolargl\":[{\"type\":\"scatterpolargl\",\"marker\":{\"colorbar\":{\"outlinewidth\":0,\"ticks\":\"\"}}}],\"bar\":[{\"error_x\":{\"color\":\"#2a3f5f\"},\"error_y\":{\"color\":\"#2a3f5f\"},\"marker\":{\"line\":{\"color\":\"#E5ECF6\",\"width\":0.5},\"pattern\":{\"fillmode\":\"overlay\",\"size\":10,\"solidity\":0.2}},\"type\":\"bar\"}],\"scattergeo\":[{\"type\":\"scattergeo\",\"marker\":{\"colorbar\":{\"outlinewidth\":0,\"ticks\":\"\"}}}],\"scatterpolar\":[{\"type\":\"scatterpolar\",\"marker\":{\"colorbar\":{\"outlinewidth\":0,\"ticks\":\"\"}}}],\"histogram\":[{\"marker\":{\"pattern\":{\"fillmode\":\"overlay\",\"size\":10,\"solidity\":0.2}},\"type\":\"histogram\"}],\"scattergl\":[{\"type\":\"scattergl\",\"marker\":{\"colorbar\":{\"outlinewidth\":0,\"ticks\":\"\"}}}],\"scatter3d\":[{\"type\":\"scatter3d\",\"line\":{\"colorbar\":{\"outlinewidth\":0,\"ticks\":\"\"}},\"marker\":{\"colorbar\":{\"outlinewidth\":0,\"ticks\":\"\"}}}],\"scattermapbox\":[{\"type\":\"scattermapbox\",\"marker\":{\"colorbar\":{\"outlinewidth\":0,\"ticks\":\"\"}}}],\"scatterternary\":[{\"type\":\"scatterternary\",\"marker\":{\"colorbar\":{\"outlinewidth\":0,\"ticks\":\"\"}}}],\"scattercarpet\":[{\"type\":\"scattercarpet\",\"marker\":{\"colorbar\":{\"outlinewidth\":0,\"ticks\":\"\"}}}],\"carpet\":[{\"aaxis\":{\"endlinecolor\":\"#2a3f5f\",\"gridcolor\":\"white\",\"linecolor\":\"white\",\"minorgridcolor\":\"white\",\"startlinecolor\":\"#2a3f5f\"},\"baxis\":{\"endlinecolor\":\"#2a3f5f\",\"gridcolor\":\"white\",\"linecolor\":\"white\",\"minorgridcolor\":\"white\",\"startlinecolor\":\"#2a3f5f\"},\"type\":\"carpet\"}],\"table\":[{\"cells\":{\"fill\":{\"color\":\"#EBF0F8\"},\"line\":{\"color\":\"white\"}},\"header\":{\"fill\":{\"color\":\"#C8D4E3\"},\"line\":{\"color\":\"white\"}},\"type\":\"table\"}],\"barpolar\":[{\"marker\":{\"line\":{\"color\":\"#E5ECF6\",\"width\":0.5},\"pattern\":{\"fillmode\":\"overlay\",\"size\":10,\"solidity\":0.2}},\"type\":\"barpolar\"}],\"pie\":[{\"automargin\":true,\"type\":\"pie\"}]},\"layout\":{\"autotypenumbers\":\"strict\",\"colorway\":[\"#636efa\",\"#EF553B\",\"#00cc96\",\"#ab63fa\",\"#FFA15A\",\"#19d3f3\",\"#FF6692\",\"#B6E880\",\"#FF97FF\",\"#FECB52\"],\"font\":{\"color\":\"#2a3f5f\"},\"hovermode\":\"closest\",\"hoverlabel\":{\"align\":\"left\"},\"paper_bgcolor\":\"white\",\"plot_bgcolor\":\"#E5ECF6\",\"polar\":{\"bgcolor\":\"#E5ECF6\",\"angularaxis\":{\"gridcolor\":\"white\",\"linecolor\":\"white\",\"ticks\":\"\"},\"radialaxis\":{\"gridcolor\":\"white\",\"linecolor\":\"white\",\"ticks\":\"\"}},\"ternary\":{\"bgcolor\":\"#E5ECF6\",\"aaxis\":{\"gridcolor\":\"white\",\"linecolor\":\"white\",\"ticks\":\"\"},\"baxis\":{\"gridcolor\":\"white\",\"linecolor\":\"white\",\"ticks\":\"\"},\"caxis\":{\"gridcolor\":\"white\",\"linecolor\":\"white\",\"ticks\":\"\"}},\"coloraxis\":{\"colorbar\":{\"outlinewidth\":0,\"ticks\":\"\"}},\"colorscale\":{\"sequential\":[[0.0,\"#0d0887\"],[0.1111111111111111,\"#46039f\"],[0.2222222222222222,\"#7201a8\"],[0.3333333333333333,\"#9c179e\"],[0.4444444444444444,\"#bd3786\"],[0.5555555555555556,\"#d8576b\"],[0.6666666666666666,\"#ed7953\"],[0.7777777777777778,\"#fb9f3a\"],[0.8888888888888888,\"#fdca26\"],[1.0,\"#f0f921\"]],\"sequentialminus\":[[0.0,\"#0d0887\"],[0.1111111111111111,\"#46039f\"],[0.2222222222222222,\"#7201a8\"],[0.3333333333333333,\"#9c179e\"],[0.4444444444444444,\"#bd3786\"],[0.5555555555555556,\"#d8576b\"],[0.6666666666666666,\"#ed7953\"],[0.7777777777777778,\"#fb9f3a\"],[0.8888888888888888,\"#fdca26\"],[1.0,\"#f0f921\"]],\"diverging\":[[0,\"#8e0152\"],[0.1,\"#c51b7d\"],[0.2,\"#de77ae\"],[0.3,\"#f1b6da\"],[0.4,\"#fde0ef\"],[0.5,\"#f7f7f7\"],[0.6,\"#e6f5d0\"],[0.7,\"#b8e186\"],[0.8,\"#7fbc41\"],[0.9,\"#4d9221\"],[1,\"#276419\"]]},\"xaxis\":{\"gridcolor\":\"white\",\"linecolor\":\"white\",\"ticks\":\"\",\"title\":{\"standoff\":15},\"zerolinecolor\":\"white\",\"automargin\":true,\"zerolinewidth\":2},\"yaxis\":{\"gridcolor\":\"white\",\"linecolor\":\"white\",\"ticks\":\"\",\"title\":{\"standoff\":15},\"zerolinecolor\":\"white\",\"automargin\":true,\"zerolinewidth\":2},\"scene\":{\"xaxis\":{\"backgroundcolor\":\"#E5ECF6\",\"gridcolor\":\"white\",\"linecolor\":\"white\",\"showbackground\":true,\"ticks\":\"\",\"zerolinecolor\":\"white\",\"gridwidth\":2},\"yaxis\":{\"backgroundcolor\":\"#E5ECF6\",\"gridcolor\":\"white\",\"linecolor\":\"white\",\"showbackground\":true,\"ticks\":\"\",\"zerolinecolor\":\"white\",\"gridwidth\":2},\"zaxis\":{\"backgroundcolor\":\"#E5ECF6\",\"gridcolor\":\"white\",\"linecolor\":\"white\",\"showbackground\":true,\"ticks\":\"\",\"zerolinecolor\":\"white\",\"gridwidth\":2}},\"shapedefaults\":{\"line\":{\"color\":\"#2a3f5f\"}},\"annotationdefaults\":{\"arrowcolor\":\"#2a3f5f\",\"arrowhead\":0,\"arrowwidth\":1},\"geo\":{\"bgcolor\":\"white\",\"landcolor\":\"#E5ECF6\",\"subunitcolor\":\"white\",\"showland\":true,\"showlakes\":true,\"lakecolor\":\"white\"},\"title\":{\"x\":0.05},\"mapbox\":{\"style\":\"light\"}}}},                        {\"responsive\": true}                    ).then(function(){\n                            \nvar gd = document.getElementById('286c698e-5395-4f39-93df-f1d55693ea59');\nvar x = new MutationObserver(function (mutations, observer) {{\n        var display = window.getComputedStyle(gd).display;\n        if (!display || display === 'none') {{\n            console.log([gd, 'removed!']);\n            Plotly.purge(gd);\n            observer.disconnect();\n        }}\n}});\n\n// Listen for the removal of the full notebook cells\nvar notebookContainer = gd.closest('#notebook-container');\nif (notebookContainer) {{\n    x.observe(notebookContainer, {childList: true});\n}}\n\n// Listen for the clearing of the current output cell\nvar outputEl = gd.closest('.output');\nif (outputEl) {{\n    x.observe(outputEl, {childList: true});\n}}\n\n                        })                };                });            </script>        </div>"
     },
     "metadata": {}
    }
   ]
  },
  {
   "cell_type": "code",
   "source": [],
   "metadata": {},
   "execution_count": null,
   "outputs": []
  }
 ]
}
